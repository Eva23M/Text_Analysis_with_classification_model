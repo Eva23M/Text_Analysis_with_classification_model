{
  "nbformat": 4,
  "nbformat_minor": 0,
  "metadata": {
    "colab": {
      "name": "Assignment2_Wenhui Ma.ipynb",
      "provenance": [],
      "collapsed_sections": []
    },
    "kernelspec": {
      "name": "python3",
      "display_name": "Python 3"
    },
    "language_info": {
      "name": "python"
    }
  },
  "cells": [
    {
      "cell_type": "code",
      "source": [
        "#%reset"
      ],
      "metadata": {
        "colab": {
          "base_uri": "https://localhost:8080/"
        },
        "id": "ivsdflZHisYi",
        "outputId": "0ebf90dc-1851-4ef4-a43b-294fc85019ad"
      },
      "execution_count": 5,
      "outputs": [
        {
          "name": "stdout",
          "output_type": "stream",
          "text": [
            "Once deleted, variables cannot be recovered. Proceed (y/[n])? y\n",
            "Once deleted, variables cannot be recovered. Proceed (y/[n])? y\n"
          ]
        }
      ]
    },
    {
      "cell_type": "code",
      "execution_count": 1,
      "metadata": {
        "id": "0K8Op4FyB6NI",
        "colab": {
          "base_uri": "https://localhost:8080/"
        },
        "outputId": "c215459f-623d-46fe-a6f1-b551c606b161"
      },
      "outputs": [
        {
          "output_type": "stream",
          "name": "stdout",
          "text": [
            "Collecting dmba\n",
            "  Downloading dmba-0.1.0-py3-none-any.whl (11.8 MB)\n",
            "\u001b[K     |████████████████████████████████| 11.8 MB 4.9 MB/s \n",
            "\u001b[?25hInstalling collected packages: dmba\n",
            "Successfully installed dmba-0.1.0\n",
            "no display found. Using non-interactive Agg backend\n"
          ]
        }
      ],
      "source": [
        "%matplotlib inline\n",
        "\n",
        "# Import packages\n",
        "from zipfile import ZipFile\n",
        "import pickle\n",
        "from pathlib import Path\n",
        "import pandas as pd\n",
        "import numpy as np\n",
        "import re\n",
        "from string import punctuation\n",
        "import matplotlib.pylab as plt\n",
        "from matplotlib.pyplot import cm\n",
        "from collections import Counter\n",
        "\n",
        "import sys\n",
        "!{sys.executable} -m pip install dmba\n",
        "from dmba import printTermDocumentMatrix, classificationSummary, liftChart\n",
        "\n",
        "#scikit-learn \n",
        "from sklearn.model_selection import train_test_split\n",
        "from sklearn.feature_extraction.text import CountVectorizer\n",
        "from sklearn.feature_extraction.text import TfidfVectorizer\n",
        "from sklearn.feature_extraction.text import TfidfTransformer\n",
        "from sklearn.feature_extraction._stop_words import ENGLISH_STOP_WORDS\n",
        "from sklearn.decomposition import TruncatedSVD\n",
        "from sklearn.preprocessing import Normalizer\n",
        "from sklearn.pipeline import make_pipeline\n",
        "from sklearn.model_selection import train_test_split\n",
        "from sklearn.feature_selection import chi2\n",
        "from sklearn.linear_model import LogisticRegression"
      ]
    },
    {
      "cell_type": "code",
      "source": [
        "#nltk\n",
        "import nltk\n",
        "from nltk.tokenize import sent_tokenize, word_tokenize\n",
        "from nltk.util import ngrams\n",
        "from nltk.corpus import stopwords\n",
        "from nltk.stem import WordNetLemmatizer\n",
        "from nltk.stem.snowball import EnglishStemmer\n"
      ],
      "metadata": {
        "id": "T4qCGDApDyLh"
      },
      "execution_count": 2,
      "outputs": []
    },
    {
      "cell_type": "code",
      "source": [
        "#pip uninstall nltk"
      ],
      "metadata": {
        "colab": {
          "base_uri": "https://localhost:8080/"
        },
        "id": "n9IXwZy2obqM",
        "outputId": "77a55fa8-d5fe-4c41-be63-804268c0fb85"
      },
      "execution_count": 3,
      "outputs": [
        {
          "output_type": "stream",
          "name": "stdout",
          "text": [
            "Found existing installation: nltk 3.7\n",
            "Uninstalling nltk-3.7:\n",
            "  Would remove:\n",
            "    /usr/local/bin/nltk\n",
            "    /usr/local/lib/python3.7/dist-packages/nltk-3.7.dist-info/*\n",
            "    /usr/local/lib/python3.7/dist-packages/nltk/*\n",
            "Proceed (y/n)? y\n",
            "  Successfully uninstalled nltk-3.7\n",
            "y\n"
          ]
        }
      ]
    },
    {
      "cell_type": "code",
      "source": [
        "#pip install -U nltk"
      ],
      "metadata": {
        "colab": {
          "base_uri": "https://localhost:8080/",
          "height": 253
        },
        "id": "HPPnsU7ZohOb",
        "outputId": "05f5766b-eacf-454f-c4d1-6f4a15e58bb2"
      },
      "execution_count": 4,
      "outputs": [
        {
          "output_type": "stream",
          "name": "stdout",
          "text": [
            "Collecting nltk\n",
            "  Using cached nltk-3.7-py3-none-any.whl (1.5 MB)\n",
            "Requirement already satisfied: tqdm in /usr/local/lib/python3.7/dist-packages (from nltk) (4.63.0)\n",
            "Requirement already satisfied: regex>=2021.8.3 in /usr/local/lib/python3.7/dist-packages (from nltk) (2022.3.15)\n",
            "Requirement already satisfied: joblib in /usr/local/lib/python3.7/dist-packages (from nltk) (1.1.0)\n",
            "Requirement already satisfied: click in /usr/local/lib/python3.7/dist-packages (from nltk) (7.1.2)\n",
            "Installing collected packages: nltk\n",
            "Successfully installed nltk-3.7\n"
          ]
        },
        {
          "output_type": "display_data",
          "data": {
            "application/vnd.colab-display-data+json": {
              "pip_warning": {
                "packages": [
                  "nltk"
                ]
              }
            }
          },
          "metadata": {}
        }
      ]
    },
    {
      "cell_type": "code",
      "source": [
        "nltk.download('averaged_perceptron_tagger')\n",
        "nltk.download('punkt')\n",
        "nltk.download('wordnet')"
      ],
      "metadata": {
        "colab": {
          "base_uri": "https://localhost:8080/"
        },
        "id": "8_VVNME7oRnm",
        "outputId": "c5bb0014-b085-4e87-f6c7-5b837a9b4d72"
      },
      "execution_count": 3,
      "outputs": [
        {
          "output_type": "stream",
          "name": "stdout",
          "text": [
            "[nltk_data] Downloading package averaged_perceptron_tagger to\n",
            "[nltk_data]     /root/nltk_data...\n",
            "[nltk_data]   Unzipping taggers/averaged_perceptron_tagger.zip.\n",
            "[nltk_data] Downloading package punkt to /root/nltk_data...\n",
            "[nltk_data]   Unzipping tokenizers/punkt.zip.\n",
            "[nltk_data] Downloading package wordnet to /root/nltk_data...\n",
            "[nltk_data]   Unzipping corpora/wordnet.zip.\n"
          ]
        },
        {
          "output_type": "execute_result",
          "data": {
            "text/plain": [
              "True"
            ]
          },
          "metadata": {},
          "execution_count": 3
        }
      ]
    },
    {
      "cell_type": "markdown",
      "source": [
        "Data sampling"
      ],
      "metadata": {
        "id": "dNT7FsaUCZHT"
      }
    },
    {
      "cell_type": "code",
      "source": [
        "from google.colab import drive\n",
        "drive.mount('/content/drive')\n",
        "train_df = pd.read_csv('/content/drive/MyDrive/Colab Notebooks/Train_rev.csv', encoding= 'unicode_escape')"
      ],
      "metadata": {
        "colab": {
          "base_uri": "https://localhost:8080/"
        },
        "id": "NbQP8URJCG7p",
        "outputId": "5a629a36-1ae8-45ee-b504-68633802a4cf"
      },
      "execution_count": 4,
      "outputs": [
        {
          "output_type": "stream",
          "name": "stdout",
          "text": [
            "Mounted at /content/drive\n"
          ]
        }
      ]
    },
    {
      "cell_type": "code",
      "source": [
        "train_df.shape"
      ],
      "metadata": {
        "colab": {
          "base_uri": "https://localhost:8080/"
        },
        "id": "r4dcQBqLCICh",
        "outputId": "2c0c96ce-9eda-423d-e8c1-39d3cd14d8fb"
      },
      "execution_count": 5,
      "outputs": [
        {
          "output_type": "execute_result",
          "data": {
            "text/plain": [
              "(244768, 12)"
            ]
          },
          "metadata": {},
          "execution_count": 5
        }
      ]
    },
    {
      "cell_type": "code",
      "source": [
        "train_df.head()"
      ],
      "metadata": {
        "colab": {
          "base_uri": "https://localhost:8080/",
          "height": 493
        },
        "id": "IZFFUFO5Clfx",
        "outputId": "ba42d176-8632-49fd-c6d2-11036d95607d"
      },
      "execution_count": 6,
      "outputs": [
        {
          "output_type": "execute_result",
          "data": {
            "text/plain": [
              "         Id                                              Title  \\\n",
              "0  12612628                        Engineering Systems Analyst   \n",
              "1  12612830                            Stress Engineer Glasgow   \n",
              "2  12612844                   Modelling and simulation analyst   \n",
              "3  12613049  Engineering Systems Analyst / Mathematical Mod...   \n",
              "4  12613647         Pioneer, Miser Engineering Systems Analyst   \n",
              "\n",
              "                                     FullDescription  \\\n",
              "0  Engineering Systems Analyst Dorking Surrey Sal...   \n",
              "1  Stress Engineer Glasgow Salary **** to **** We...   \n",
              "2  Mathematical Modeller / Simulation Analyst / O...   \n",
              "3  Engineering Systems Analyst / Mathematical Mod...   \n",
              "4  Pioneer, Miser  Engineering Systems Analyst Do...   \n",
              "\n",
              "                         LocationRaw LocationNormalized ContractType  \\\n",
              "0            Dorking, Surrey, Surrey            Dorking          NaN   \n",
              "1        Glasgow, Scotland, Scotland            Glasgow          NaN   \n",
              "2  Hampshire, South East, South East          Hampshire          NaN   \n",
              "3     Surrey, South East, South East             Surrey          NaN   \n",
              "4     Surrey, South East, South East             Surrey          NaN   \n",
              "\n",
              "  ContractTime                       Company          Category  \\\n",
              "0    permanent  Gregory Martin International  Engineering Jobs   \n",
              "1    permanent  Gregory Martin International  Engineering Jobs   \n",
              "2    permanent  Gregory Martin International  Engineering Jobs   \n",
              "3    permanent  Gregory Martin International  Engineering Jobs   \n",
              "4    permanent  Gregory Martin International  Engineering Jobs   \n",
              "\n",
              "                                SalaryRaw  SalaryNormalized        SourceName  \n",
              "0              20000 - 30000/annum 20-30K             25000  cv-library.co.uk  \n",
              "1              25000 - 35000/annum 25-35K             30000  cv-library.co.uk  \n",
              "2              20000 - 40000/annum 20-40K             30000  cv-library.co.uk  \n",
              "3  25000 - 30000/annum 25K-30K negotiable             27500  cv-library.co.uk  \n",
              "4              20000 - 30000/annum 20-30K             25000  cv-library.co.uk  "
            ],
            "text/html": [
              "\n",
              "  <div id=\"df-b8464278-92d3-493e-a7e4-2367c52f8bbd\">\n",
              "    <div class=\"colab-df-container\">\n",
              "      <div>\n",
              "<style scoped>\n",
              "    .dataframe tbody tr th:only-of-type {\n",
              "        vertical-align: middle;\n",
              "    }\n",
              "\n",
              "    .dataframe tbody tr th {\n",
              "        vertical-align: top;\n",
              "    }\n",
              "\n",
              "    .dataframe thead th {\n",
              "        text-align: right;\n",
              "    }\n",
              "</style>\n",
              "<table border=\"1\" class=\"dataframe\">\n",
              "  <thead>\n",
              "    <tr style=\"text-align: right;\">\n",
              "      <th></th>\n",
              "      <th>Id</th>\n",
              "      <th>Title</th>\n",
              "      <th>FullDescription</th>\n",
              "      <th>LocationRaw</th>\n",
              "      <th>LocationNormalized</th>\n",
              "      <th>ContractType</th>\n",
              "      <th>ContractTime</th>\n",
              "      <th>Company</th>\n",
              "      <th>Category</th>\n",
              "      <th>SalaryRaw</th>\n",
              "      <th>SalaryNormalized</th>\n",
              "      <th>SourceName</th>\n",
              "    </tr>\n",
              "  </thead>\n",
              "  <tbody>\n",
              "    <tr>\n",
              "      <th>0</th>\n",
              "      <td>12612628</td>\n",
              "      <td>Engineering Systems Analyst</td>\n",
              "      <td>Engineering Systems Analyst Dorking Surrey Sal...</td>\n",
              "      <td>Dorking, Surrey, Surrey</td>\n",
              "      <td>Dorking</td>\n",
              "      <td>NaN</td>\n",
              "      <td>permanent</td>\n",
              "      <td>Gregory Martin International</td>\n",
              "      <td>Engineering Jobs</td>\n",
              "      <td>20000 - 30000/annum 20-30K</td>\n",
              "      <td>25000</td>\n",
              "      <td>cv-library.co.uk</td>\n",
              "    </tr>\n",
              "    <tr>\n",
              "      <th>1</th>\n",
              "      <td>12612830</td>\n",
              "      <td>Stress Engineer Glasgow</td>\n",
              "      <td>Stress Engineer Glasgow Salary **** to **** We...</td>\n",
              "      <td>Glasgow, Scotland, Scotland</td>\n",
              "      <td>Glasgow</td>\n",
              "      <td>NaN</td>\n",
              "      <td>permanent</td>\n",
              "      <td>Gregory Martin International</td>\n",
              "      <td>Engineering Jobs</td>\n",
              "      <td>25000 - 35000/annum 25-35K</td>\n",
              "      <td>30000</td>\n",
              "      <td>cv-library.co.uk</td>\n",
              "    </tr>\n",
              "    <tr>\n",
              "      <th>2</th>\n",
              "      <td>12612844</td>\n",
              "      <td>Modelling and simulation analyst</td>\n",
              "      <td>Mathematical Modeller / Simulation Analyst / O...</td>\n",
              "      <td>Hampshire, South East, South East</td>\n",
              "      <td>Hampshire</td>\n",
              "      <td>NaN</td>\n",
              "      <td>permanent</td>\n",
              "      <td>Gregory Martin International</td>\n",
              "      <td>Engineering Jobs</td>\n",
              "      <td>20000 - 40000/annum 20-40K</td>\n",
              "      <td>30000</td>\n",
              "      <td>cv-library.co.uk</td>\n",
              "    </tr>\n",
              "    <tr>\n",
              "      <th>3</th>\n",
              "      <td>12613049</td>\n",
              "      <td>Engineering Systems Analyst / Mathematical Mod...</td>\n",
              "      <td>Engineering Systems Analyst / Mathematical Mod...</td>\n",
              "      <td>Surrey, South East, South East</td>\n",
              "      <td>Surrey</td>\n",
              "      <td>NaN</td>\n",
              "      <td>permanent</td>\n",
              "      <td>Gregory Martin International</td>\n",
              "      <td>Engineering Jobs</td>\n",
              "      <td>25000 - 30000/annum 25K-30K negotiable</td>\n",
              "      <td>27500</td>\n",
              "      <td>cv-library.co.uk</td>\n",
              "    </tr>\n",
              "    <tr>\n",
              "      <th>4</th>\n",
              "      <td>12613647</td>\n",
              "      <td>Pioneer, Miser Engineering Systems Analyst</td>\n",
              "      <td>Pioneer, Miser  Engineering Systems Analyst Do...</td>\n",
              "      <td>Surrey, South East, South East</td>\n",
              "      <td>Surrey</td>\n",
              "      <td>NaN</td>\n",
              "      <td>permanent</td>\n",
              "      <td>Gregory Martin International</td>\n",
              "      <td>Engineering Jobs</td>\n",
              "      <td>20000 - 30000/annum 20-30K</td>\n",
              "      <td>25000</td>\n",
              "      <td>cv-library.co.uk</td>\n",
              "    </tr>\n",
              "  </tbody>\n",
              "</table>\n",
              "</div>\n",
              "      <button class=\"colab-df-convert\" onclick=\"convertToInteractive('df-b8464278-92d3-493e-a7e4-2367c52f8bbd')\"\n",
              "              title=\"Convert this dataframe to an interactive table.\"\n",
              "              style=\"display:none;\">\n",
              "        \n",
              "  <svg xmlns=\"http://www.w3.org/2000/svg\" height=\"24px\"viewBox=\"0 0 24 24\"\n",
              "       width=\"24px\">\n",
              "    <path d=\"M0 0h24v24H0V0z\" fill=\"none\"/>\n",
              "    <path d=\"M18.56 5.44l.94 2.06.94-2.06 2.06-.94-2.06-.94-.94-2.06-.94 2.06-2.06.94zm-11 1L8.5 8.5l.94-2.06 2.06-.94-2.06-.94L8.5 2.5l-.94 2.06-2.06.94zm10 10l.94 2.06.94-2.06 2.06-.94-2.06-.94-.94-2.06-.94 2.06-2.06.94z\"/><path d=\"M17.41 7.96l-1.37-1.37c-.4-.4-.92-.59-1.43-.59-.52 0-1.04.2-1.43.59L10.3 9.45l-7.72 7.72c-.78.78-.78 2.05 0 2.83L4 21.41c.39.39.9.59 1.41.59.51 0 1.02-.2 1.41-.59l7.78-7.78 2.81-2.81c.8-.78.8-2.07 0-2.86zM5.41 20L4 18.59l7.72-7.72 1.47 1.35L5.41 20z\"/>\n",
              "  </svg>\n",
              "      </button>\n",
              "      \n",
              "  <style>\n",
              "    .colab-df-container {\n",
              "      display:flex;\n",
              "      flex-wrap:wrap;\n",
              "      gap: 12px;\n",
              "    }\n",
              "\n",
              "    .colab-df-convert {\n",
              "      background-color: #E8F0FE;\n",
              "      border: none;\n",
              "      border-radius: 50%;\n",
              "      cursor: pointer;\n",
              "      display: none;\n",
              "      fill: #1967D2;\n",
              "      height: 32px;\n",
              "      padding: 0 0 0 0;\n",
              "      width: 32px;\n",
              "    }\n",
              "\n",
              "    .colab-df-convert:hover {\n",
              "      background-color: #E2EBFA;\n",
              "      box-shadow: 0px 1px 2px rgba(60, 64, 67, 0.3), 0px 1px 3px 1px rgba(60, 64, 67, 0.15);\n",
              "      fill: #174EA6;\n",
              "    }\n",
              "\n",
              "    [theme=dark] .colab-df-convert {\n",
              "      background-color: #3B4455;\n",
              "      fill: #D2E3FC;\n",
              "    }\n",
              "\n",
              "    [theme=dark] .colab-df-convert:hover {\n",
              "      background-color: #434B5C;\n",
              "      box-shadow: 0px 1px 3px 1px rgba(0, 0, 0, 0.15);\n",
              "      filter: drop-shadow(0px 1px 2px rgba(0, 0, 0, 0.3));\n",
              "      fill: #FFFFFF;\n",
              "    }\n",
              "  </style>\n",
              "\n",
              "      <script>\n",
              "        const buttonEl =\n",
              "          document.querySelector('#df-b8464278-92d3-493e-a7e4-2367c52f8bbd button.colab-df-convert');\n",
              "        buttonEl.style.display =\n",
              "          google.colab.kernel.accessAllowed ? 'block' : 'none';\n",
              "\n",
              "        async function convertToInteractive(key) {\n",
              "          const element = document.querySelector('#df-b8464278-92d3-493e-a7e4-2367c52f8bbd');\n",
              "          const dataTable =\n",
              "            await google.colab.kernel.invokeFunction('convertToInteractive',\n",
              "                                                     [key], {});\n",
              "          if (!dataTable) return;\n",
              "\n",
              "          const docLinkHtml = 'Like what you see? Visit the ' +\n",
              "            '<a target=\"_blank\" href=https://colab.research.google.com/notebooks/data_table.ipynb>data table notebook</a>'\n",
              "            + ' to learn more about interactive tables.';\n",
              "          element.innerHTML = '';\n",
              "          dataTable['output_type'] = 'display_data';\n",
              "          await google.colab.output.renderOutput(dataTable, element);\n",
              "          const docLink = document.createElement('div');\n",
              "          docLink.innerHTML = docLinkHtml;\n",
              "          element.appendChild(docLink);\n",
              "        }\n",
              "      </script>\n",
              "    </div>\n",
              "  </div>\n",
              "  "
            ]
          },
          "metadata": {},
          "execution_count": 6
        }
      ]
    },
    {
      "cell_type": "code",
      "source": [
        "train_df.dtypes"
      ],
      "metadata": {
        "colab": {
          "base_uri": "https://localhost:8080/"
        },
        "id": "tmzygX2cCnhF",
        "outputId": "26a166a0-ee16-470b-d33b-a8ac469a2f40"
      },
      "execution_count": 7,
      "outputs": [
        {
          "output_type": "execute_result",
          "data": {
            "text/plain": [
              "Id                     int64\n",
              "Title                 object\n",
              "FullDescription       object\n",
              "LocationRaw           object\n",
              "LocationNormalized    object\n",
              "ContractType          object\n",
              "ContractTime          object\n",
              "Company               object\n",
              "Category              object\n",
              "SalaryRaw             object\n",
              "SalaryNormalized       int64\n",
              "SourceName            object\n",
              "dtype: object"
            ]
          },
          "metadata": {},
          "execution_count": 7
        }
      ]
    },
    {
      "cell_type": "code",
      "source": [
        "data_A = train_df.sample(n=2500)\n",
        "data_B = train_df.sample(n=2500)"
      ],
      "metadata": {
        "id": "zPDKDl5LErbh"
      },
      "execution_count": 8,
      "outputs": []
    },
    {
      "cell_type": "markdown",
      "source": [
        "Part A"
      ],
      "metadata": {
        "id": "eJ348KZmGAvW"
      }
    },
    {
      "cell_type": "markdown",
      "source": [
        "A1. What are the top 5 parts of speech in the job descriptions? How frequently do they appear? How do these numbers change if you exclude stopwords? "
      ],
      "metadata": {
        "id": "D6Yhg2LFyl5i"
      }
    },
    {
      "cell_type": "code",
      "source": [
        "#tokenize\n",
        "def tokenize(x):\n",
        "    xtoken = word_tokenize(x)    #alternatively: xtoken = x.strip().split(' ') [using the re package will also tokenize words]\n",
        "    return xtoken\n",
        "\n",
        "# set df to lower case before applying tokenization function\n",
        "data_A['FullDescription_tokenized'] = data_A['FullDescription'].map(tokenize)\n",
        "data_A['FullDescription_tokenized'].head(10)"
      ],
      "metadata": {
        "colab": {
          "base_uri": "https://localhost:8080/"
        },
        "id": "Sacf1eaXdvw1",
        "outputId": "faef968a-5c99-4b10-b585-dbfadd417dde"
      },
      "execution_count": 9,
      "outputs": [
        {
          "output_type": "execute_result",
          "data": {
            "text/plain": [
              "232821    [Rail, Construction, Manager, required, for, o...\n",
              "169529    [Eurostaff, Group, Ltd, is, an, award, winning...\n",
              "120152    [Based, in, Middlesex, ,, the, Senior, Power, ...\n",
              "2412      [We, are, looking, to, recruit, an, experience...\n",
              "234611    [Accounts, Payable, Assistant, De, Vere, Venue...\n",
              "147714    [Our, client, is, seeking, a, processdriven, a...\n",
              "178831    [Our, highly, prestigious, client, based, in, ...\n",
              "87        [Chef, De, Partie, Norfolk, Live, In, up, to, ...\n",
              "181439    [Duration, :, Permanent, Description, :, d, A,...\n",
              "154136    [Policy, Analyst, ,, Smarter, Markets, Strateg...\n",
              "Name: FullDescription_tokenized, dtype: object"
            ]
          },
          "metadata": {},
          "execution_count": 9
        }
      ]
    },
    {
      "cell_type": "code",
      "source": [
        "data_A = data_A.reset_index()"
      ],
      "metadata": {
        "id": "gZrZXBYNshqO"
      },
      "execution_count": 10,
      "outputs": []
    },
    {
      "cell_type": "code",
      "source": [
        "print(data_A['FullDescription'][1])"
      ],
      "metadata": {
        "colab": {
          "base_uri": "https://localhost:8080/"
        },
        "id": "Kjl6Q-PurACC",
        "outputId": "c7abc24f-edc8-4cf6-fb34-5289b40d8045"
      },
      "execution_count": 11,
      "outputs": [
        {
          "output_type": "stream",
          "name": "stdout",
          "text": [
            "Eurostaff Group Ltd is an award winning International Recruitment Consultancy specialising in the recruitment of senior level professionals in the niche sectors of Finance, IT, Energy and Analytics. Since inception the business has gone from strength to strength, appearing for two consecutive years in the Sunday Times Fast Track **** and Recruiter Magazine's Fast **** as well as the International Track 2010. For us, this is just the beginning. We are looking to grow our exceptional multilingual team significantly by the end of 2011, and as such are looking for forward thinking, success driven multilingual individuals. Recruitment Consultancy is a sales focused role, requiring dedication, resilience, and a solution focused, cando' attitude. The role involves a high volume of cold calling to European businesses as well as ongoing client and candidate relationship management, dealing with candidates and clients based in Germany, Belgium, France or Scandinavian speaking countries depending on your language skills. We offer a competitive basic salary however the majority of your earnings will be gained through commission. Professional development and fast career progression is not only encouraged but expected, and to facilitate this we offer an intensive three month Rookie Training' scheme, incorporating onthejob, group classroom style and one to one training. The successful candidate: Fluency in German is essential Some previous experience in sales would be beneficial Target driven, career focused and able to work under pressure Confident, with excellent interpersonal skills Hard working, assertive and resilient Holding a degree in any discipline Incentives Benefits  Commission levels well above the industry norm  Increasing basic wage as you work your way up the structured career path  Holiday incentives  Company wide luxury group and individual holiday targets  Performance related incentives such as Selfridges vouchers  Monthly Achievers Dinner  those who reach their monthly target are wined and dined at a top London restaurant  Fully expensed mobile phone with successful reaching of first billing target  PHI and Pension after 12 months\n"
          ]
        }
      ]
    },
    {
      "cell_type": "code",
      "source": [
        "text = ''\n",
        "for n in range(len(data_A)):\n",
        "  text += data_A['FullDescription'][n]\n",
        "print(len(text))"
      ],
      "metadata": {
        "colab": {
          "base_uri": "https://localhost:8080/"
        },
        "id": "wvviSHULqE1P",
        "outputId": "adbd195b-38e4-4d67-c1f2-0823073b43c0"
      },
      "execution_count": 12,
      "outputs": [
        {
          "output_type": "stream",
          "name": "stdout",
          "text": [
            "4168769\n"
          ]
        }
      ]
    },
    {
      "cell_type": "code",
      "source": [
        "# importing a string of punctuation and digits to remove\n",
        "import string\n",
        "exclist = string.punctuation + string.digits\n",
        "# remove punctuations and digits from oldtext\n",
        "table_ = str.maketrans('', '', exclist)\n",
        "newtext = text.translate(table_)"
      ],
      "metadata": {
        "id": "LqjrCdd6zSpd"
      },
      "execution_count": 13,
      "outputs": []
    },
    {
      "cell_type": "code",
      "source": [
        "from nltk.tokenize import word_tokenize\n",
        "text_token=word_tokenize(newtext)\n",
        "POS_A = nltk.pos_tag(text_token)"
      ],
      "metadata": {
        "id": "M0n6mYESiRn9"
      },
      "execution_count": 14,
      "outputs": []
    },
    {
      "cell_type": "code",
      "source": [
        "#One method to print top 5 frequent word (with POS)\n",
        "from collections import Counter\n",
        "Counter(POS_A).most_common(5)"
      ],
      "metadata": {
        "colab": {
          "base_uri": "https://localhost:8080/"
        },
        "id": "OFiimpxBxi5p",
        "outputId": "8c830b39-f944-4d8d-e869-4b49e47416d0"
      },
      "execution_count": 15,
      "outputs": [
        {
          "output_type": "execute_result",
          "data": {
            "text/plain": [
              "[(('and', 'CC'), 27810),\n",
              " (('to', 'TO'), 20014),\n",
              " (('the', 'DT'), 18552),\n",
              " (('of', 'IN'), 14988),\n",
              " (('a', 'DT'), 14776)]"
            ]
          },
          "metadata": {},
          "execution_count": 15
        }
      ]
    },
    {
      "cell_type": "code",
      "source": [
        "def clean_punctuations_and_noise(x):\n",
        "    x = str(x)                                 \n",
        "    x = x.replace('\\r', ' ')                    \n",
        "    x = x.replace('\\n', ' ')                      \n",
        "    x = re.sub(r'http://[A-Za-z0-9/.?]*', ' ', x) \n",
        "    for eachpunc in punctuation:\n",
        "        x = x.replace(eachpunc, ' ')             \n",
        "    x = re.sub(r'\\s+', ' ', x)                    \n",
        "    return x.lower()                              \n",
        "    \n",
        "data_A['FullDescription_clean'] = data_A['FullDescription_tokenized'].map(clean_punctuations_and_noise)\n",
        "data_A['FullDescription_clean'].head(10)"
      ],
      "metadata": {
        "colab": {
          "base_uri": "https://localhost:8080/"
        },
        "id": "JRxnyml0oAmV",
        "outputId": "af0fb15f-4ade-4444-8baf-70defefdc5e6"
      },
      "execution_count": 16,
      "outputs": [
        {
          "output_type": "execute_result",
          "data": {
            "text/plain": [
              "0     rail construction manager required for one of...\n",
              "1     eurostaff group ltd is an award winning inter...\n",
              "2     based in middlesex the senior power supply de...\n",
              "3     we are looking to recruit an experienced sale...\n",
              "4     accounts payable assistant de vere venues ltd...\n",
              "5     our client is seeking a processdriven automot...\n",
              "6     our highly prestigious client based in gaydon...\n",
              "7     chef de partie norfolk live in up to tips are...\n",
              "8     duration permanent description d a strong adm...\n",
              "9     policy analyst smarter markets strategy band ...\n",
              "Name: FullDescription_clean, dtype: object"
            ]
          },
          "metadata": {},
          "execution_count": 16
        }
      ]
    },
    {
      "cell_type": "code",
      "source": [
        "#Another way to find top 5 frequent word\n",
        "freqword = Counter(\" \".join(data_A['FullDescription_clean']).split()).most_common(5)\n",
        "freq_matrix = pd.DataFrame(freqword, columns=['Word', 'Frequency'])\n",
        "print(freq_matrix)"
      ],
      "metadata": {
        "colab": {
          "base_uri": "https://localhost:8080/"
        },
        "id": "WMNxCbf1jjpD",
        "outputId": "0c07b556-66d7-4953-a97f-5153d064b4aa"
      },
      "execution_count": 17,
      "outputs": [
        {
          "output_type": "stream",
          "name": "stdout",
          "text": [
            "  Word  Frequency\n",
            "0  and      28077\n",
            "1  the      22156\n",
            "2   to      21432\n",
            "3    a      15948\n",
            "4   of      15032\n"
          ]
        }
      ]
    },
    {
      "cell_type": "markdown",
      "source": [
        "Both methods show that the 5 top frequent words are 'and', 'the', 'to', 'a' and 'of', see the frequencies above."
      ],
      "metadata": {
        "id": "KoSc9De8z9uU"
      }
    },
    {
      "cell_type": "code",
      "source": [
        "#remove stopwords\n",
        "nltk.download('stopwords')\n",
        "stopWords_nltk = list(sorted(stopwords.words('english')))\n",
        "stopWords_skl = list(sorted(ENGLISH_STOP_WORDS))\n",
        "\n",
        "common2both = list(sorted(set(stopWords_nltk) & set(stopWords_skl))) \n",
        "unique2skl = list(filter(lambda x: x not in common2both, stopWords_skl))\n",
        "unique2nltk = list(filter(lambda x: x not in common2both, stopWords_nltk))\n",
        "\n",
        "stopWords_joined = stopWords_skl + unique2nltk\n",
        "stopWords2keep = ['d','m','ma','o','s','t','y']\n",
        "stopWords_customized = list(sorted(filter(lambda x: x not in stopWords2keep, stopWords_joined)))\n",
        "\n",
        "def remove_stopword(x):\n",
        "    xlist = word_tokenize(x)    \n",
        "    xnostopwd = [word for word in xlist if word not in stopWords_customized]\n",
        "    return xnostopwd\n",
        "\n",
        "data_A['FullDescription_nostopwd'] = data_A['FullDescription'].str.lower().map(remove_stopword)\n",
        "data_A['FullDescription_nostopwd'].head(10)"
      ],
      "metadata": {
        "colab": {
          "base_uri": "https://localhost:8080/"
        },
        "id": "LtylowGuhPQ9",
        "outputId": "d4925342-6712-4d75-e8b4-b01c9859e6c1"
      },
      "execution_count": 18,
      "outputs": [
        {
          "output_type": "stream",
          "name": "stdout",
          "text": [
            "[nltk_data] Downloading package stopwords to /root/nltk_data...\n",
            "[nltk_data]   Unzipping corpora/stopwords.zip.\n"
          ]
        },
        {
          "output_type": "execute_result",
          "data": {
            "text/plain": [
              "0    [rail, construction, manager, required, larges...\n",
              "1    [eurostaff, group, award, winning, internation...\n",
              "2    [based, middlesex, ,, senior, power, supply, d...\n",
              "3    [looking, recruit, experienced, sales, enginee...\n",
              "4    [accounts, payable, assistant, vere, venues, â...\n",
              "5    [client, seeking, processdriven, automotive, s...\n",
              "6    [highly, prestigious, client, based, gaydon, l...\n",
              "7    [chef, partie, norfolk, live, ****, tips, seek...\n",
              "8    [duration, :, permanent, description, :, d, st...\n",
              "9    [policy, analyst, ,, smarter, markets, strateg...\n",
              "Name: FullDescription_nostopwd, dtype: object"
            ]
          },
          "metadata": {},
          "execution_count": 18
        }
      ]
    },
    {
      "cell_type": "code",
      "source": [
        "#tokenize and clean again\n",
        "#data_A['Description_tokenized'] = data_A['FullDescription_nostopwd'].map(remove_stopword)\n",
        "data_A['Description_clean'] = data_A['FullDescription_nostopwd'].map(clean_punctuations_and_noise)\n",
        "data_A['Description_tokenized'] = data_A['Description_clean'].map(remove_stopword)\n",
        "data_A['Description_clean'] = data_A['Description_tokenized'].map(clean_punctuations_and_noise)\n",
        "data_A['Description_clean'].head(10)"
      ],
      "metadata": {
        "colab": {
          "base_uri": "https://localhost:8080/"
        },
        "id": "VOPjQxYPsk0b",
        "outputId": "8026192d-0262-4672-9255-559d1e62889c"
      },
      "execution_count": 19,
      "outputs": [
        {
          "output_type": "execute_result",
          "data": {
            "text/plain": [
              "0     rail construction manager required largest ra...\n",
              "1     eurostaff group award winning international r...\n",
              "2     based middlesex senior power supply design en...\n",
              "3     looking recruit experienced sales engineer su...\n",
              "4     accounts payable assistant vere venues â x80 ...\n",
              "5     client seeking processdriven automotive sales...\n",
              "6     highly prestigious client based gaydon lookin...\n",
              "7     chef partie norfolk live tips seeking new rol...\n",
              "8     duration permanent description d strong admin...\n",
              "9     policy analyst smarter markets strategy band ...\n",
              "Name: Description_clean, dtype: object"
            ]
          },
          "metadata": {},
          "execution_count": 19
        }
      ]
    },
    {
      "cell_type": "code",
      "source": [
        "#if we exclude the stopwords, then the top 5 frequent word will be:\n",
        "freqword2 = Counter(\" \".join(data_A['Description_clean']).split()).most_common(5)\n",
        "freq_matrix2 = pd.DataFrame(freqword2, columns=['Word', 'Frequency'])\n",
        "print(freq_matrix2)"
      ],
      "metadata": {
        "colab": {
          "base_uri": "https://localhost:8080/"
        },
        "id": "6wOLzBlNuR7P",
        "outputId": "1c71c377-25b4-4c1e-9f69-2aec374e8719"
      },
      "execution_count": 20,
      "outputs": [
        {
          "output_type": "stream",
          "name": "stdout",
          "text": [
            "         Word  Frequency\n",
            "0  experience       4297\n",
            "1        work       3049\n",
            "2        role       2969\n",
            "3        team       2836\n",
            "4    business       2807\n"
          ]
        }
      ]
    },
    {
      "cell_type": "markdown",
      "source": [
        "When we remove the stopwards, the 5 top frequent words become 'experience', 'role', 'work', 'team' and 'bueiness'."
      ],
      "metadata": {
        "id": "-U1JJedR0SNH"
      }
    },
    {
      "cell_type": "markdown",
      "source": [
        "Does this data support Zipf’s law? Plot the most common 100 words in the data \n",
        "against the theoretical prediction of the law. For this question, do not remove stopwords. \n",
        "Also do not perform stemming or lemmatization. "
      ],
      "metadata": {
        "id": "2ujA1vz12MAE"
      }
    },
    {
      "cell_type": "code",
      "source": [
        "zif_data = Counter(\" \".join(data_A['FullDescription_clean']).split()).most_common(100)\n",
        "names, values = zip(*zif_data)\n",
        "\n",
        "ind = np.arange(len(zif_data))  \n",
        "width = 0.3 \n",
        "\n",
        "fig, ax = plt.subplots()\n",
        "rects1 = ax.bar(ind, values, width, color='b')\n",
        "\n",
        "ax.set_ylabel('Count')\n",
        "\n",
        "plt.show()"
      ],
      "metadata": {
        "colab": {
          "base_uri": "https://localhost:8080/",
          "height": 265
        },
        "id": "Y8THkmNj2LS0",
        "outputId": "da3c5886-cac8-47d3-f724-ce6ef1400a62"
      },
      "execution_count": 21,
      "outputs": [
        {
          "output_type": "display_data",
          "data": {
            "text/plain": [
              "<Figure size 432x288 with 1 Axes>"
            ],
            "image/png": "[encoded data removed]"
          },
          "metadata": {
            "needs_background": "light"
          }
        }
      ]
    },
    {
      "cell_type": "code",
      "source": [
        "print(zif_data)"
      ],
      "metadata": {
        "colab": {
          "base_uri": "https://localhost:8080/"
        },
        "id": "4-Z4GQr44S-K",
        "outputId": "2ec6ea1a-3a4e-40a1-8b20-ce318d6eadcf"
      },
      "execution_count": 22,
      "outputs": [
        {
          "output_type": "stream",
          "name": "stdout",
          "text": [
            "[('and', 28077), ('the', 22156), ('to', 21432), ('a', 15948), ('of', 15032), ('in', 10803), ('for', 8774), ('with', 7781), ('you', 7188), ('will', 6691), ('be', 6414), ('is', 6338), ('this', 5078), ('as', 4953), ('an', 4514), ('are', 4475), ('experience', 4297), ('on', 4185), ('have', 3663), ('or', 3495), ('work', 3049), ('role', 2969), ('your', 2924), ('team', 2836), ('business', 2807), ('skills', 2479), ('we', 2425), ('our', 2385), ('working', 2334), ('all', 2300), ('job', 2292), ('within', 2258), ('sales', 2202), ('that', 2129), ('client', 2028), ('management', 1925), ('their', 1920), ('at', 1867), ('manager', 1849), ('company', 1768), ('please', 1725), ('from', 1675), ('development', 1666), ('uk', 1636), ('looking', 1588), ('support', 1584), ('excellent', 1432), ('new', 1387), ('if', 1365), ('required', 1363), ('service', 1327), ('must', 1297), ('s', 1294), ('opportunity', 1274), ('â', 1273), ('who', 1248), ('by', 1237), ('it', 1223), ('successful', 1205), ('project', 1196), ('knowledge', 1150), ('based', 1136), ('they', 1126), ('apply', 1124), ('customer', 1122), ('recruitment', 1110), ('ability', 1095), ('services', 1073), ('x80', 1066), ('strong', 1057), ('ensure', 1042), ('design', 1032), ('candidate', 1011), ('has', 1000), ('join', 986), ('good', 962), ('able', 954), ('environment', 951), ('not', 950), ('high', 947), ('salary', 937), ('position', 925), ('well', 922), ('clients', 907), ('key', 898), ('www', 892), ('com', 889), ('technical', 884), ('also', 884), ('leading', 876), ('cv', 875), ('training', 871), ('including', 868), ('other', 859), ('care', 856), ('quality', 846), ('candidates', 823), ('projects', 821), ('would', 810), ('can', 809)]\n"
          ]
        }
      ]
    },
    {
      "cell_type": "code",
      "source": [
        "import scipy.stats as ss\n",
        "from nltk.corpus import wordnet\n",
        "\n",
        "amb = [(w, c, len(wordnet.synsets(w))) for (w, c) in zif_data if len(wordnet.synsets(w)) > 0]\n",
        "\n",
        "amb_p_rank = ss.rankdata([p for (w, c, p) in amb])\n",
        "amb_c_rank = ss.rankdata([c for (w, c, p) in amb])\n",
        "\n",
        "amb_ranked = zip(amb, amb_p_rank, amb_c_rank)\n",
        "\n",
        "import math\n",
        "l = len(zif_data)\n",
        "rev = [l-r+1 for r in amb_c_rank]\n",
        "\n",
        "plt.plot([math.log(c) for c in rev], [math.log(c) for (w, c, p) in amb], 'ro')"
      ],
      "metadata": {
        "colab": {
          "base_uri": "https://localhost:8080/",
          "height": 283
        },
        "id": "Z_Hl4km5-uRD",
        "outputId": "0eb3852a-59f7-4ff7-f30d-db91ccef26e6"
      },
      "execution_count": 23,
      "outputs": [
        {
          "output_type": "execute_result",
          "data": {
            "text/plain": [
              "[<matplotlib.lines.Line2D at 0x7f926739e850>]"
            ]
          },
          "metadata": {},
          "execution_count": 23
        },
        {
          "output_type": "display_data",
          "data": {
            "text/plain": [
              "<Figure size 432x288 with 1 Axes>"
            ],
            "image/png": "[encoded data removed]"
          },
          "metadata": {
            "needs_background": "light"
          }
        }
      ]
    },
    {
      "cell_type": "markdown",
      "source": [
        "I think the data support Zipf's Law."
      ],
      "metadata": {
        "id": "DYaytaHS03aF"
      }
    },
    {
      "cell_type": "markdown",
      "source": [
        "If we remove stopwords and lemmatize the data, what are the 10 most common \n",
        "words? What are their frequencies?"
      ],
      "metadata": {
        "id": "Jk0kkj5PBX_I"
      }
    },
    {
      "cell_type": "code",
      "source": [
        "wordnet_lemmatizer = WordNetLemmatizer()\n",
        "nrows = len(data_A)\n",
        "lemmatized_text_list = []\n",
        "\n",
        "for row in range(0, nrows):\n",
        "    \n",
        "    # Create an empty list containing lemmatized words\n",
        "    lemmatized_list = []\n",
        "    \n",
        "    # Save the text and its words into a string object\n",
        "    text = data_A.iloc[row]['Description_clean']\n",
        "    text_words = text.split(\" \")\n",
        "\n",
        "    # Iterate through every word to lemmatize\n",
        "    for word in text_words:\n",
        "        lemmatized_list.append(wordnet_lemmatizer.lemmatize(word, pos=\"v\"))\n",
        "        \n",
        "    # Join the list\n",
        "    lemmatized_text = \" \".join(lemmatized_list)\n",
        "    \n",
        "    # Append to the list containing the texts\n",
        "    lemmatized_text_list.append(lemmatized_text)\n",
        "   \n",
        "data_A['Description_lem'] = lemmatized_text_list\n",
        "data_A['Description_lem'].head(10)"
      ],
      "metadata": {
        "colab": {
          "base_uri": "https://localhost:8080/"
        },
        "id": "zYwb19s9D-vI",
        "outputId": "7dfec36d-8b3d-4610-93f7-2931c6ee5222"
      },
      "execution_count": 24,
      "outputs": [
        {
          "output_type": "execute_result",
          "data": {
            "text/plain": [
              "0     rail construction manager require largest rai...\n",
              "1     eurostaff group award win international recru...\n",
              "2     base middlesex senior power supply design eng...\n",
              "3     look recruit experience sales engineer suppor...\n",
              "4     account payable assistant vere venues â x80 x...\n",
              "5     client seek processdriven automotive sales ma...\n",
              "6     highly prestigious client base gaydon look ex...\n",
              "7     chef partie norfolk live tip seek new role ch...\n",
              "8     duration permanent description d strong admin...\n",
              "9     policy analyst smarter market strategy band c...\n",
              "Name: Description_lem, dtype: object"
            ]
          },
          "metadata": {},
          "execution_count": 24
        }
      ]
    },
    {
      "cell_type": "code",
      "source": [
        "freqword3 = Counter(\" \".join(data_A['Description_lem']).split()).most_common(10)\n",
        "freq_matrix3 = pd.DataFrame(freqword3, columns=['Word', 'Frequency'])\n",
        "print(freq_matrix3)"
      ],
      "metadata": {
        "colab": {
          "base_uri": "https://localhost:8080/"
        },
        "id": "FzcLXg5EEjOs",
        "outputId": "a87d0cc1-a141-4315-a935-623c992e50f8"
      },
      "execution_count": 25,
      "outputs": [
        {
          "output_type": "stream",
          "name": "stdout",
          "text": [
            "         Word  Frequency\n",
            "0        work       5688\n",
            "1  experience       5051\n",
            "2        team       3207\n",
            "3        role       2969\n",
            "4    business       2807\n",
            "5         job       2540\n",
            "6      skills       2479\n",
            "7     service       2434\n",
            "8       sales       2202\n",
            "9      client       2028\n"
          ]
        }
      ]
    },
    {
      "cell_type": "markdown",
      "source": [
        "Part B"
      ],
      "metadata": {
        "id": "4NKzZMcnFSnf"
      }
    },
    {
      "cell_type": "markdown",
      "source": [
        "B1. Ignore the job descriptions, and train a model to predict high/low salary from all the \n",
        "numeric columns, e.g., part time/full time, contract vs. others, type of job (a lot of dummy \n",
        "variables), location (instead of using a huge number of dummy variables, you can use a\n",
        "list of cities in England with highest cost of living and create a 0/1 variable which is 1 if \n",
        "the job is in one of those cities, else 0). What is the accuracy of your model? Show the \n",
        "confusion matrix."
      ],
      "metadata": {
        "id": "cGKUblh2FWlQ"
      }
    },
    {
      "cell_type": "code",
      "source": [
        "train_df.dtypes"
      ],
      "metadata": {
        "colab": {
          "base_uri": "https://localhost:8080/"
        },
        "id": "gGpnaIldFZZH",
        "outputId": "6252fbd8-e067-4001-c0e0-9a00485303e2"
      },
      "execution_count": 26,
      "outputs": [
        {
          "output_type": "execute_result",
          "data": {
            "text/plain": [
              "Id                     int64\n",
              "Title                 object\n",
              "FullDescription       object\n",
              "LocationRaw           object\n",
              "LocationNormalized    object\n",
              "ContractType          object\n",
              "ContractTime          object\n",
              "Company               object\n",
              "Category              object\n",
              "SalaryRaw             object\n",
              "SalaryNormalized       int64\n",
              "SourceName            object\n",
              "dtype: object"
            ]
          },
          "metadata": {},
          "execution_count": 26
        }
      ]
    },
    {
      "cell_type": "code",
      "source": [
        "data_B = data_B.reset_index()"
      ],
      "metadata": {
        "id": "BzzNWA8F8cFR"
      },
      "execution_count": 27,
      "outputs": []
    },
    {
      "cell_type": "code",
      "source": [
        "#if location is with highest cost, then the value of it will be 1.\n",
        "\n",
        "#copy the top 20 expensive city in UK, data from https://www.carcashpoint.co.uk/the-top-15-most-expensive-places-to-live-in-the-uk/\n",
        "highcostcity = ['Cardiff', 'Worcester', 'Gloucester', 'Southampton', 'Canterbury','Bristol','Norwich','Leicester','Exeter','Salisbury','St Albans','Chelmsford','London','Brighton','Cambridge','Chichester','Truro','Bath','Oxford','Winchester']\n",
        "\n",
        "data_B['Location'] = ''\n",
        "for n in range(len(data_B)):\n",
        "  if data_B['LocationNormalized'][n] in highcostcity:\n",
        "    data_B['Location'][n] = 1\n",
        "  else:\n",
        "    data_B['Location'][n] = 0\n",
        "\n",
        "print(data_B['Location'][0])"
      ],
      "metadata": {
        "colab": {
          "base_uri": "https://localhost:8080/"
        },
        "id": "0qyXeLD13sbx",
        "outputId": "9ff0e418-b84a-4ebf-9aff-69b282e4480b"
      },
      "execution_count": 28,
      "outputs": [
        {
          "output_type": "stream",
          "name": "stderr",
          "text": [
            "/usr/local/lib/python3.7/dist-packages/ipykernel_launcher.py:11: SettingWithCopyWarning: \n",
            "A value is trying to be set on a copy of a slice from a DataFrame\n",
            "\n",
            "See the caveats in the documentation: https://pandas.pydata.org/pandas-docs/stable/user_guide/indexing.html#returning-a-view-versus-a-copy\n",
            "  # This is added back by InteractiveShellApp.init_path()\n",
            "/usr/local/lib/python3.7/dist-packages/ipykernel_launcher.py:9: SettingWithCopyWarning: \n",
            "A value is trying to be set on a copy of a slice from a DataFrame\n",
            "\n",
            "See the caveats in the documentation: https://pandas.pydata.org/pandas-docs/stable/user_guide/indexing.html#returning-a-view-versus-a-copy\n",
            "  if __name__ == '__main__':\n"
          ]
        },
        {
          "output_type": "stream",
          "name": "stdout",
          "text": [
            "0\n"
          ]
        }
      ]
    },
    {
      "cell_type": "code",
      "source": [
        "#reset contract time\n",
        "data_B['Contract_Time'] = ''\n",
        "for n in range(len(data_B)):\n",
        "  if data_B['ContractTime'][n] == 'permanent':\n",
        "    data_B['Contract_Time'][n] = 2\n",
        "  elif data_B['ContractTime'][n] == 'contract':\n",
        "    data_B['Contract_Time'][n] = 1\n",
        "  else:\n",
        "    data_B['Contract_Time'][n] = 0\n",
        "\n",
        "print(data_B['Contract_Time'][0])"
      ],
      "metadata": {
        "colab": {
          "base_uri": "https://localhost:8080/"
        },
        "id": "L64sl4lt9mZp",
        "outputId": "3bb1244a-b20a-4405-dee8-2feb9d2efb49"
      },
      "execution_count": 29,
      "outputs": [
        {
          "output_type": "stream",
          "name": "stderr",
          "text": [
            "/usr/local/lib/python3.7/dist-packages/ipykernel_launcher.py:5: SettingWithCopyWarning: \n",
            "A value is trying to be set on a copy of a slice from a DataFrame\n",
            "\n",
            "See the caveats in the documentation: https://pandas.pydata.org/pandas-docs/stable/user_guide/indexing.html#returning-a-view-versus-a-copy\n",
            "  \"\"\"\n",
            "/usr/local/lib/python3.7/dist-packages/ipykernel_launcher.py:9: SettingWithCopyWarning: \n",
            "A value is trying to be set on a copy of a slice from a DataFrame\n",
            "\n",
            "See the caveats in the documentation: https://pandas.pydata.org/pandas-docs/stable/user_guide/indexing.html#returning-a-view-versus-a-copy\n",
            "  if __name__ == '__main__':\n",
            "/usr/local/lib/python3.7/dist-packages/ipykernel_launcher.py:7: SettingWithCopyWarning: \n",
            "A value is trying to be set on a copy of a slice from a DataFrame\n",
            "\n",
            "See the caveats in the documentation: https://pandas.pydata.org/pandas-docs/stable/user_guide/indexing.html#returning-a-view-versus-a-copy\n",
            "  import sys\n"
          ]
        },
        {
          "output_type": "stream",
          "name": "stdout",
          "text": [
            "2\n"
          ]
        }
      ]
    },
    {
      "cell_type": "code",
      "source": [
        "#reset contract type\n",
        "data_B['Contract_Type'] = ''\n",
        "for n in range(len(data_B)):\n",
        "  if data_B['ContractType'][n] == 'full_time':\n",
        "    data_B['Contract_Type'][n] = 2\n",
        "  elif data_B['ContractType'][n] == 'part_time':\n",
        "    data_B['Contract_Type'][n] = 1\n",
        "  else:\n",
        "    data_B['Contract_Type'][n] = 0\n",
        "\n",
        "print(data_B['Contract_Type'][0])"
      ],
      "metadata": {
        "colab": {
          "base_uri": "https://localhost:8080/"
        },
        "id": "zJWEBRMj-6p2",
        "outputId": "53217adb-2cee-4cd3-f2f8-07f1902c2532"
      },
      "execution_count": 30,
      "outputs": [
        {
          "output_type": "stream",
          "name": "stderr",
          "text": [
            "/usr/local/lib/python3.7/dist-packages/ipykernel_launcher.py:9: SettingWithCopyWarning: \n",
            "A value is trying to be set on a copy of a slice from a DataFrame\n",
            "\n",
            "See the caveats in the documentation: https://pandas.pydata.org/pandas-docs/stable/user_guide/indexing.html#returning-a-view-versus-a-copy\n",
            "  if __name__ == '__main__':\n",
            "/usr/local/lib/python3.7/dist-packages/ipykernel_launcher.py:5: SettingWithCopyWarning: \n",
            "A value is trying to be set on a copy of a slice from a DataFrame\n",
            "\n",
            "See the caveats in the documentation: https://pandas.pydata.org/pandas-docs/stable/user_guide/indexing.html#returning-a-view-versus-a-copy\n",
            "  \"\"\"\n",
            "/usr/local/lib/python3.7/dist-packages/ipykernel_launcher.py:7: SettingWithCopyWarning: \n",
            "A value is trying to be set on a copy of a slice from a DataFrame\n",
            "\n",
            "See the caveats in the documentation: https://pandas.pydata.org/pandas-docs/stable/user_guide/indexing.html#returning-a-view-versus-a-copy\n",
            "  import sys\n"
          ]
        },
        {
          "output_type": "stream",
          "name": "stdout",
          "text": [
            "0\n"
          ]
        }
      ]
    },
    {
      "cell_type": "code",
      "source": [
        "data_B['Category'].value_counts(normalize=True)"
      ],
      "metadata": {
        "colab": {
          "base_uri": "https://localhost:8080/"
        },
        "id": "3NRsbSAN_XUj",
        "outputId": "b282984b-7a45-4dbb-975d-5ce1d659c0da"
      },
      "execution_count": 31,
      "outputs": [
        {
          "output_type": "execute_result",
          "data": {
            "text/plain": [
              "IT Jobs                             0.1576\n",
              "Engineering Jobs                    0.1004\n",
              "Healthcare & Nursing Jobs           0.0856\n",
              "Accounting & Finance Jobs           0.0784\n",
              "Sales Jobs                          0.0748\n",
              "Other/General Jobs                  0.0732\n",
              "Teaching Jobs                       0.0448\n",
              "Hospitality & Catering Jobs         0.0444\n",
              "PR, Advertising & Marketing Jobs    0.0400\n",
              "Trade & Construction Jobs           0.0388\n",
              "Admin Jobs                          0.0332\n",
              "HR & Recruitment Jobs               0.0292\n",
              "Retail Jobs                         0.0268\n",
              "Customer Services Jobs              0.0256\n",
              "Logistics & Warehouse Jobs          0.0172\n",
              "Social work Jobs                    0.0164\n",
              "Legal Jobs                          0.0152\n",
              "Manufacturing Jobs                  0.0136\n",
              "Consultancy Jobs                    0.0128\n",
              "Scientific & QA Jobs                0.0124\n",
              "Charity & Voluntary Jobs            0.0108\n",
              "Travel Jobs                         0.0100\n",
              "Energy, Oil & Gas Jobs              0.0096\n",
              "Maintenance Jobs                    0.0072\n",
              "Graduate Jobs                       0.0072\n",
              "Property Jobs                       0.0068\n",
              "Creative & Design Jobs              0.0060\n",
              "Domestic help & Cleaning Jobs       0.0012\n",
              "Part time Jobs                      0.0008\n",
              "Name: Category, dtype: float64"
            ]
          },
          "metadata": {},
          "execution_count": 31
        }
      ]
    },
    {
      "cell_type": "code",
      "source": [
        "#classify salary\n",
        "high_salary = np.percentile(data_B['SalaryNormalized'], 75)\n",
        "\n",
        "data_B['Salary'] = ''\n",
        "for n in range(len(data_B)):\n",
        "  if data_B['SalaryNormalized'][n] >= high_salary:\n",
        "    data_B['Salary'][n] = 1\n",
        "  else:\n",
        "    data_B['Salary'][n] = 0\n",
        "\n",
        "print(data_B['Salary'][0])"
      ],
      "metadata": {
        "colab": {
          "base_uri": "https://localhost:8080/"
        },
        "id": "GtW51JBCFIuC",
        "outputId": "b2458f5c-4165-455b-8d33-8ad59583cb64"
      },
      "execution_count": 32,
      "outputs": [
        {
          "output_type": "stream",
          "name": "stderr",
          "text": [
            "/usr/local/lib/python3.7/dist-packages/ipykernel_launcher.py:9: SettingWithCopyWarning: \n",
            "A value is trying to be set on a copy of a slice from a DataFrame\n",
            "\n",
            "See the caveats in the documentation: https://pandas.pydata.org/pandas-docs/stable/user_guide/indexing.html#returning-a-view-versus-a-copy\n",
            "  if __name__ == '__main__':\n",
            "/usr/local/lib/python3.7/dist-packages/ipykernel_launcher.py:7: SettingWithCopyWarning: \n",
            "A value is trying to be set on a copy of a slice from a DataFrame\n",
            "\n",
            "See the caveats in the documentation: https://pandas.pydata.org/pandas-docs/stable/user_guide/indexing.html#returning-a-view-versus-a-copy\n",
            "  import sys\n"
          ]
        },
        {
          "output_type": "stream",
          "name": "stdout",
          "text": [
            "0\n"
          ]
        }
      ]
    },
    {
      "cell_type": "code",
      "source": [
        "print(high_salary)"
      ],
      "metadata": {
        "colab": {
          "base_uri": "https://localhost:8080/"
        },
        "id": "jaEY2acqF2K2",
        "outputId": "faf0bbe6-9e3c-4765-d2b0-a11066284324"
      },
      "execution_count": 33,
      "outputs": [
        {
          "output_type": "stream",
          "name": "stdout",
          "text": [
            "42500.0\n"
          ]
        }
      ]
    },
    {
      "cell_type": "code",
      "source": [
        "predictors = ['Location','Contract_Time','Contract_Type','Category']\n",
        "outcomes = 'Salary'"
      ],
      "metadata": {
        "id": "DQIAiOnYBvge"
      },
      "execution_count": 34,
      "outputs": []
    },
    {
      "cell_type": "code",
      "source": [
        "data_B['Salary'] = data_B.Salary.astype(float)"
      ],
      "metadata": {
        "id": "3x1wIBtZI412"
      },
      "execution_count": 35,
      "outputs": []
    },
    {
      "cell_type": "code",
      "source": [
        "data_B.dtypes"
      ],
      "metadata": {
        "colab": {
          "base_uri": "https://localhost:8080/"
        },
        "id": "Z_cp5SBFJHbP",
        "outputId": "770affb3-fc90-43c9-9cd1-821ecfae2439"
      },
      "execution_count": 36,
      "outputs": [
        {
          "output_type": "execute_result",
          "data": {
            "text/plain": [
              "index                   int64\n",
              "Id                      int64\n",
              "Title                  object\n",
              "FullDescription        object\n",
              "LocationRaw            object\n",
              "LocationNormalized     object\n",
              "ContractType           object\n",
              "ContractTime           object\n",
              "Company                object\n",
              "Category               object\n",
              "SalaryRaw              object\n",
              "SalaryNormalized        int64\n",
              "SourceName             object\n",
              "Location               object\n",
              "Contract_Time          object\n",
              "Contract_Type          object\n",
              "Salary                float64\n",
              "dtype: object"
            ]
          },
          "metadata": {},
          "execution_count": 36
        }
      ]
    },
    {
      "cell_type": "code",
      "source": [
        "from sklearn.model_selection import train_test_split\n",
        "\n",
        "import sys\n",
        "!{sys.executable} -m pip install dmba\n",
        "from dmba import classificationSummary\n",
        "\n",
        "X = pd.get_dummies(data_B[predictors], drop_first=True)\n",
        "y = data_B[outcomes]\n",
        "train_X, valid_X, train_y, valid_y = train_test_split(X, y, test_size=0.4, random_state=1)\n",
        "\n",
        "from sklearn.naive_bayes import BernoulliNB\n",
        "classifier1 = BernoulliNB()\n",
        "classifier1.fit(train_X, train_y)\n",
        "\n",
        "# print performance measures\n",
        "classificationSummary(train_y, classifier1.predict(train_X))"
      ],
      "metadata": {
        "colab": {
          "base_uri": "https://localhost:8080/"
        },
        "id": "t2Nn2fQWBtdb",
        "outputId": "57b0272f-990b-4732-f7e1-bc1148543b93"
      },
      "execution_count": 37,
      "outputs": [
        {
          "output_type": "stream",
          "name": "stdout",
          "text": [
            "Requirement already satisfied: dmba in /usr/local/lib/python3.7/dist-packages (0.1.0)\n",
            "Confusion Matrix (Accuracy 0.7240)\n",
            "\n",
            "       Prediction\n",
            "Actual   0   1\n",
            "     0 983 106\n",
            "     1 308 103\n"
          ]
        }
      ]
    },
    {
      "cell_type": "code",
      "source": [
        "#Confusion matrix of BernoulliNB\n",
        "from sklearn.metrics import f1_score\n",
        "\n",
        "\n",
        "print('Train set:')\n",
        "classificationSummary(train_y, classifier1.predict(train_X))\n",
        "print('F1 Score:')\n",
        "f1_train = f1_score(train_y, classifier1.predict(train_X))\n",
        "print(f1_train)\n",
        "\n",
        "print('')\n",
        "print('Validation set:')\n",
        "classificationSummary(valid_y, classifier1.predict(valid_X))\n",
        "print('F1 Score:')\n",
        "f1_score(valid_y, classifier1.predict(valid_X))"
      ],
      "metadata": {
        "colab": {
          "base_uri": "https://localhost:8080/"
        },
        "id": "beT29Q3xDawL",
        "outputId": "755b489c-6eb6-421f-e17c-3f98fe9f5d30"
      },
      "execution_count": 42,
      "outputs": [
        {
          "output_type": "stream",
          "name": "stdout",
          "text": [
            "Train set:\n",
            "Confusion Matrix (Accuracy 0.7240)\n",
            "\n",
            "       Prediction\n",
            "Actual   0   1\n",
            "     0 983 106\n",
            "     1 308 103\n",
            "F1 Score:\n",
            "0.33225806451612905\n",
            "\n",
            "Validation set:\n",
            "Confusion Matrix (Accuracy 0.7430)\n",
            "\n",
            "       Prediction\n",
            "Actual   0   1\n",
            "     0 673  78\n",
            "     1 179  70\n",
            "F1 Score:\n"
          ]
        },
        {
          "output_type": "execute_result",
          "data": {
            "text/plain": [
              "0.3526448362720403"
            ]
          },
          "metadata": {},
          "execution_count": 42
        }
      ]
    },
    {
      "cell_type": "code",
      "source": [
        "from sklearn.naive_bayes import MultinomialNB\n",
        "classifier2 = MultinomialNB()\n",
        "classifier2.fit(train_X, train_y)\n",
        "classificationSummary(train_y, classifier2.predict(train_X))"
      ],
      "metadata": {
        "colab": {
          "base_uri": "https://localhost:8080/"
        },
        "id": "F3KIthYMOQYP",
        "outputId": "0d6252bf-96a6-4c9c-f851-101d805d30e6"
      },
      "execution_count": 44,
      "outputs": [
        {
          "output_type": "stream",
          "name": "stdout",
          "text": [
            "Confusion Matrix (Accuracy 0.7380)\n",
            "\n",
            "       Prediction\n",
            "Actual    0    1\n",
            "     0 1059   30\n",
            "     1  363   48\n"
          ]
        }
      ]
    },
    {
      "cell_type": "code",
      "source": [
        "#Confusion matrix of MultinomialNB\n",
        "print('Train set:')\n",
        "classificationSummary(train_y, classifier2.predict(train_X))\n",
        "print('F1 Score:')\n",
        "f1_train2 = f1_score(train_y, classifier2.predict(train_X))\n",
        "print(f1_train2)\n",
        "\n",
        "print('')\n",
        "print('Validation set:')\n",
        "classificationSummary(valid_y, classifier2.predict(valid_X))\n",
        "print('F1 Score:')\n",
        "f1_score(valid_y, classifier2.predict(valid_X))"
      ],
      "metadata": {
        "colab": {
          "base_uri": "https://localhost:8080/"
        },
        "id": "S5IDmLToPK1a",
        "outputId": "c59f4d92-db9e-46b3-eef4-65e71c1b32b7"
      },
      "execution_count": 45,
      "outputs": [
        {
          "output_type": "stream",
          "name": "stdout",
          "text": [
            "Train set:\n",
            "Confusion Matrix (Accuracy 0.7380)\n",
            "\n",
            "       Prediction\n",
            "Actual    0    1\n",
            "     0 1059   30\n",
            "     1  363   48\n",
            "F1 Score:\n",
            "0.19631901840490798\n",
            "\n",
            "Validation set:\n",
            "Confusion Matrix (Accuracy 0.7590)\n",
            "\n",
            "       Prediction\n",
            "Actual   0   1\n",
            "     0 729  22\n",
            "     1 219  30\n",
            "F1 Score:\n"
          ]
        },
        {
          "output_type": "execute_result",
          "data": {
            "text/plain": [
              "0.19933554817275748"
            ]
          },
          "metadata": {},
          "execution_count": 45
        }
      ]
    },
    {
      "cell_type": "markdown",
      "source": [
        "the accuracy of Bernoulli is a little bit better, around 0.75, also with better f1 score."
      ],
      "metadata": {
        "id": "UBYrXI-6PP1L"
      }
    },
    {
      "cell_type": "markdown",
      "source": [
        " B2. Now build a classification model with text (full job description) as the only predictor. \n",
        "What is the accuracy of your model? Show the confusion matrix. Also show the top 10 \n",
        "words (excluding stopwords) that are most indicative of (i) high salary, and (ii) low \n",
        "salary. "
      ],
      "metadata": {
        "id": "9sZ4ECjfPiej"
      }
    },
    {
      "cell_type": "code",
      "source": [
        "#data cleaning\n",
        "\n",
        "data_B['FullDescription_nostopwd'] = data_B['FullDescription'].str.lower().map(remove_stopword)\n",
        "data_B['Description_clean'] = data_B['FullDescription_nostopwd'].map(clean_punctuations_and_noise)\n",
        "data_B['Description_tokenized'] = data_B['Description_clean'].map(remove_stopword)\n",
        "data_B['Description_clean'] = data_B['Description_tokenized'].map(clean_punctuations_and_noise)\n",
        "data_B['Description_clean'].head(10)\n",
        "\n",
        "nrows1 = len(data_B)\n",
        "lemmatized_text_list1 = []\n",
        "\n",
        "for row in range(0, nrows1):\n",
        "    \n",
        "    # Create an empty list containing lemmatized words\n",
        "    lemmatized_list = []\n",
        "    \n",
        "    # Save the text and its words into a string object\n",
        "    text = data_B.iloc[row]['Description_clean']\n",
        "    text_words = text.split(\" \")\n",
        "\n",
        "    # Iterate through every word to lemmatize\n",
        "    for word in text_words:\n",
        "        lemmatized_list.append(wordnet_lemmatizer.lemmatize(word, pos=\"v\"))\n",
        "        \n",
        "    # Join the list\n",
        "    lemmatized_text = \" \".join(lemmatized_list)\n",
        "    \n",
        "    # Append to the list containing the texts\n",
        "    lemmatized_text_list1.append(lemmatized_text)\n",
        "   \n",
        "data_B['Description_lem'] = lemmatized_text_list1\n",
        "data_B['Description_lem'].head(10)"
      ],
      "metadata": {
        "colab": {
          "base_uri": "https://localhost:8080/"
        },
        "id": "LuWKm4IVPjMW",
        "outputId": "dea80d4d-c0da-4711-d593-8162adad7e18"
      },
      "execution_count": 46,
      "outputs": [
        {
          "output_type": "execute_result",
          "data": {
            "text/plain": [
              "0     opportunity asset management coordinator work...\n",
              "1     market executive lift equipment market execut...\n",
              "2     finance manager dynamics east london k financ...\n",
              "3     plc lead software engineer responsible delive...\n",
              "4     large market lead diverse business look exper...\n",
              "5     support engineer network servers field base r...\n",
              "6     assess plan deliver implement high standard n...\n",
              "7     establish repute security systems company cur...\n",
              "8     skilled production downstream operator salary...\n",
              "9     technical project manager â x80 x93 residenti...\n",
              "Name: Description_lem, dtype: object"
            ]
          },
          "metadata": {},
          "execution_count": 46
        }
      ]
    },
    {
      "cell_type": "code",
      "source": [
        "text_data = data_B['Description_lem']\n",
        "label = data_B[outcomes]"
      ],
      "metadata": {
        "id": "lgr3MlsPJ3QW"
      },
      "execution_count": 47,
      "outputs": []
    },
    {
      "cell_type": "code",
      "source": [
        "#text_data.reshape(2500,1)\n",
        "text_data1 = text_data.values.reshape(2500,1)"
      ],
      "metadata": {
        "id": "nDKhMstMNCMb"
      },
      "execution_count": 48,
      "outputs": []
    },
    {
      "cell_type": "code",
      "source": [
        "from sklearn.feature_extraction.text import TfidfVectorizer\n",
        "from operator import itemgetter\n",
        "from sklearn import metrics\n",
        "from sklearn.metrics import classification_report"
      ],
      "metadata": {
        "id": "DaGt9-5MKFP9"
      },
      "execution_count": 49,
      "outputs": []
    },
    {
      "cell_type": "code",
      "source": [
        "ngram_range = (1,2)\n",
        "min_df = 1\n",
        "max_df = 10\n",
        "max_features = 600"
      ],
      "metadata": {
        "id": "qJRp_wxDPZ1i"
      },
      "execution_count": 80,
      "outputs": []
    },
    {
      "cell_type": "code",
      "source": [
        "X1 = data_B['Description_lem']\n",
        "y1 = data_B[outcomes]\n",
        "X_train, X_test, y_train, y_test = train_test_split(X1, y1, test_size=0.4, random_state=1)\n",
        "\n",
        "tfidf = TfidfVectorizer(encoding='utf-8',ngram_range=ngram_range,stop_words=None,lowercase=False,max_df=max_df,min_df=min_df,max_features=max_features,norm='l2',sublinear_tf=True)\n",
        "\n",
        "features_train = tfidf.fit_transform(X_train).toarray()\n",
        "labels_train = y_train\n",
        "print(features_train.shape)\n",
        "\n",
        "features_test = tfidf.transform(X_test).toarray()\n",
        "labels_test = y_test\n",
        "print(features_test.shape)"
      ],
      "metadata": {
        "colab": {
          "base_uri": "https://localhost:8080/"
        },
        "id": "LS8x5cDGKIPe",
        "outputId": "a1623298-d07b-479b-b398-d7ad0d40429d"
      },
      "execution_count": 81,
      "outputs": [
        {
          "output_type": "stream",
          "name": "stdout",
          "text": [
            "(1500, 600)\n",
            "(1000, 600)\n"
          ]
        }
      ]
    },
    {
      "cell_type": "code",
      "source": [
        "#BernoulliNB classifier\n",
        "classifier1.fit(features_train, y_train)\n",
        "#MultinomialNB classifier\n",
        "classifier2.fit(features_train, y_train)\n",
        "\n",
        "y_predicted1 = classifier1.predict(features_test)\n",
        "y_predicted2 = classifier2.predict(features_test)"
      ],
      "metadata": {
        "id": "Ff-Id_E0Pjk4"
      },
      "execution_count": 82,
      "outputs": []
    },
    {
      "cell_type": "code",
      "source": [
        "print('\\nHere is the confusion matrix of MultinomialNB classifier:')\n",
        "print('Train set:')\n",
        "classificationSummary(y_train, classifier2.predict(features_train))\n",
        "print('F1 Score:')\n",
        "f1_text1 = f1_score(y_train, classifier2.predict(features_train))\n",
        "print(f1_text1)\n",
        "print('')\n",
        "print('Validation set:')\n",
        "classificationSummary(y_test, classifier2.predict(features_test))\n",
        "print('F1 Score:')\n",
        "f1_text2 = f1_score(y_test, classifier2.predict(features_test))\n",
        "print(f1_text2)"
      ],
      "metadata": {
        "colab": {
          "base_uri": "https://localhost:8080/"
        },
        "id": "ZKDYzJ6gLrql",
        "outputId": "479e4186-6966-419e-db41-8b6d9054df47"
      },
      "execution_count": 83,
      "outputs": [
        {
          "output_type": "stream",
          "name": "stdout",
          "text": [
            "\n",
            "Here is the confusion matrix of MultinomialNB classifier:\n",
            "Train set:\n",
            "Confusion Matrix (Accuracy 0.8287)\n",
            "\n",
            "       Prediction\n",
            "Actual    0    1\n",
            "     0 1061   28\n",
            "     1  229  182\n",
            "F1 Score:\n",
            "0.5861513687600644\n",
            "\n",
            "Validation set:\n",
            "Confusion Matrix (Accuracy 0.7630)\n",
            "\n",
            "       Prediction\n",
            "Actual   0   1\n",
            "     0 699  52\n",
            "     1 185  64\n",
            "F1 Score:\n",
            "0.35068493150684926\n"
          ]
        }
      ]
    },
    {
      "cell_type": "code",
      "source": [
        "print('\\nHere is the confusion matrix of BernoulliNB classifier:')\n",
        "print('Train set:')\n",
        "classificationSummary(y_train, classifier1.predict(features_train))\n",
        "print('F1 Score:')\n",
        "f1_text3 = f1_score(y_train, classifier1.predict(features_train))\n",
        "print(f1_text3)\n",
        "print('')\n",
        "print('Validation set:')\n",
        "classificationSummary(y_test, classifier1.predict(features_test))\n",
        "print('F1 Score:')\n",
        "f1_text4 = f1_score(y_test, classifier1.predict(features_test))\n",
        "print(f1_text4)"
      ],
      "metadata": {
        "colab": {
          "base_uri": "https://localhost:8080/"
        },
        "id": "UZPz_-rTM3SH",
        "outputId": "db2479f7-38d8-4cb4-95cf-eac7d711f07d"
      },
      "execution_count": 84,
      "outputs": [
        {
          "output_type": "stream",
          "name": "stdout",
          "text": [
            "\n",
            "Here is the confusion matrix of BernoulliNB classifier:\n",
            "Train set:\n",
            "Confusion Matrix (Accuracy 0.8253)\n",
            "\n",
            "       Prediction\n",
            "Actual    0    1\n",
            "     0 1020   69\n",
            "     1  193  218\n",
            "F1 Score:\n",
            "0.6246418338108882\n",
            "\n",
            "Validation set:\n",
            "Confusion Matrix (Accuracy 0.7500)\n",
            "\n",
            "       Prediction\n",
            "Actual   0   1\n",
            "     0 665  86\n",
            "     1 164  85\n",
            "F1 Score:\n",
            "0.4047619047619048\n"
          ]
        }
      ]
    },
    {
      "cell_type": "markdown",
      "source": [
        "the accuracy (76.3% for MultinomialNB, and 75% for BernoulliNB) is a little bit better than using numeric columns (75%)"
      ],
      "metadata": {
        "id": "b6_NK5jzQkwL"
      }
    },
    {
      "cell_type": "code",
      "source": [
        "type(y1)"
      ],
      "metadata": {
        "colab": {
          "base_uri": "https://localhost:8080/"
        },
        "id": "DK7UvAcs_QPc",
        "outputId": "978ee48f-58c5-4d33-9f63-096a47995d32"
      },
      "execution_count": 93,
      "outputs": [
        {
          "output_type": "execute_result",
          "data": {
            "text/plain": [
              "pandas.core.series.Series"
            ]
          },
          "metadata": {},
          "execution_count": 93
        }
      ]
    },
    {
      "cell_type": "code",
      "source": [
        "y1.head(10)"
      ],
      "metadata": {
        "colab": {
          "base_uri": "https://localhost:8080/"
        },
        "id": "noMANn-TCISK",
        "outputId": "5ac1125b-eab9-4c78-d168-34f064f5d8b6"
      },
      "execution_count": 94,
      "outputs": [
        {
          "output_type": "execute_result",
          "data": {
            "text/plain": [
              "0    0.0\n",
              "1    0.0\n",
              "2    0.0\n",
              "3    0.0\n",
              "4    0.0\n",
              "5    0.0\n",
              "6    0.0\n",
              "7    0.0\n",
              "8    0.0\n",
              "9    0.0\n",
              "Name: Salary, dtype: float64"
            ]
          },
          "metadata": {},
          "execution_count": 94
        }
      ]
    },
    {
      "cell_type": "code",
      "source": [
        "data_B2 = pd.concat([X1,y1],axis=1)\n",
        "data_B2.head(5)"
      ],
      "metadata": {
        "colab": {
          "base_uri": "https://localhost:8080/",
          "height": 206
        },
        "id": "KP1C9jmoBq0_",
        "outputId": "830d885a-61be-43b1-8251-a99a974b7c6a"
      },
      "execution_count": 100,
      "outputs": [
        {
          "output_type": "execute_result",
          "data": {
            "text/plain": [
              "                                     Description_lem  Salary\n",
              "0   opportunity asset management coordinator work...     0.0\n",
              "1   market executive lift equipment market execut...     0.0\n",
              "2   finance manager dynamics east london k financ...     0.0\n",
              "3   plc lead software engineer responsible delive...     0.0\n",
              "4   large market lead diverse business look exper...     0.0"
            ],
            "text/html": [
              "\n",
              "  <div id=\"df-a21264ee-5eac-4058-b78a-496c7b4de7f0\">\n",
              "    <div class=\"colab-df-container\">\n",
              "      <div>\n",
              "<style scoped>\n",
              "    .dataframe tbody tr th:only-of-type {\n",
              "        vertical-align: middle;\n",
              "    }\n",
              "\n",
              "    .dataframe tbody tr th {\n",
              "        vertical-align: top;\n",
              "    }\n",
              "\n",
              "    .dataframe thead th {\n",
              "        text-align: right;\n",
              "    }\n",
              "</style>\n",
              "<table border=\"1\" class=\"dataframe\">\n",
              "  <thead>\n",
              "    <tr style=\"text-align: right;\">\n",
              "      <th></th>\n",
              "      <th>Description_lem</th>\n",
              "      <th>Salary</th>\n",
              "    </tr>\n",
              "  </thead>\n",
              "  <tbody>\n",
              "    <tr>\n",
              "      <th>0</th>\n",
              "      <td>opportunity asset management coordinator work...</td>\n",
              "      <td>0.0</td>\n",
              "    </tr>\n",
              "    <tr>\n",
              "      <th>1</th>\n",
              "      <td>market executive lift equipment market execut...</td>\n",
              "      <td>0.0</td>\n",
              "    </tr>\n",
              "    <tr>\n",
              "      <th>2</th>\n",
              "      <td>finance manager dynamics east london k financ...</td>\n",
              "      <td>0.0</td>\n",
              "    </tr>\n",
              "    <tr>\n",
              "      <th>3</th>\n",
              "      <td>plc lead software engineer responsible delive...</td>\n",
              "      <td>0.0</td>\n",
              "    </tr>\n",
              "    <tr>\n",
              "      <th>4</th>\n",
              "      <td>large market lead diverse business look exper...</td>\n",
              "      <td>0.0</td>\n",
              "    </tr>\n",
              "  </tbody>\n",
              "</table>\n",
              "</div>\n",
              "      <button class=\"colab-df-convert\" onclick=\"convertToInteractive('df-a21264ee-5eac-4058-b78a-496c7b4de7f0')\"\n",
              "              title=\"Convert this dataframe to an interactive table.\"\n",
              "              style=\"display:none;\">\n",
              "        \n",
              "  <svg xmlns=\"http://www.w3.org/2000/svg\" height=\"24px\"viewBox=\"0 0 24 24\"\n",
              "       width=\"24px\">\n",
              "    <path d=\"M0 0h24v24H0V0z\" fill=\"none\"/>\n",
              "    <path d=\"M18.56 5.44l.94 2.06.94-2.06 2.06-.94-2.06-.94-.94-2.06-.94 2.06-2.06.94zm-11 1L8.5 8.5l.94-2.06 2.06-.94-2.06-.94L8.5 2.5l-.94 2.06-2.06.94zm10 10l.94 2.06.94-2.06 2.06-.94-2.06-.94-.94-2.06-.94 2.06-2.06.94z\"/><path d=\"M17.41 7.96l-1.37-1.37c-.4-.4-.92-.59-1.43-.59-.52 0-1.04.2-1.43.59L10.3 9.45l-7.72 7.72c-.78.78-.78 2.05 0 2.83L4 21.41c.39.39.9.59 1.41.59.51 0 1.02-.2 1.41-.59l7.78-7.78 2.81-2.81c.8-.78.8-2.07 0-2.86zM5.41 20L4 18.59l7.72-7.72 1.47 1.35L5.41 20z\"/>\n",
              "  </svg>\n",
              "      </button>\n",
              "      \n",
              "  <style>\n",
              "    .colab-df-container {\n",
              "      display:flex;\n",
              "      flex-wrap:wrap;\n",
              "      gap: 12px;\n",
              "    }\n",
              "\n",
              "    .colab-df-convert {\n",
              "      background-color: #E8F0FE;\n",
              "      border: none;\n",
              "      border-radius: 50%;\n",
              "      cursor: pointer;\n",
              "      display: none;\n",
              "      fill: #1967D2;\n",
              "      height: 32px;\n",
              "      padding: 0 0 0 0;\n",
              "      width: 32px;\n",
              "    }\n",
              "\n",
              "    .colab-df-convert:hover {\n",
              "      background-color: #E2EBFA;\n",
              "      box-shadow: 0px 1px 2px rgba(60, 64, 67, 0.3), 0px 1px 3px 1px rgba(60, 64, 67, 0.15);\n",
              "      fill: #174EA6;\n",
              "    }\n",
              "\n",
              "    [theme=dark] .colab-df-convert {\n",
              "      background-color: #3B4455;\n",
              "      fill: #D2E3FC;\n",
              "    }\n",
              "\n",
              "    [theme=dark] .colab-df-convert:hover {\n",
              "      background-color: #434B5C;\n",
              "      box-shadow: 0px 1px 3px 1px rgba(0, 0, 0, 0.15);\n",
              "      filter: drop-shadow(0px 1px 2px rgba(0, 0, 0, 0.3));\n",
              "      fill: #FFFFFF;\n",
              "    }\n",
              "  </style>\n",
              "\n",
              "      <script>\n",
              "        const buttonEl =\n",
              "          document.querySelector('#df-a21264ee-5eac-4058-b78a-496c7b4de7f0 button.colab-df-convert');\n",
              "        buttonEl.style.display =\n",
              "          google.colab.kernel.accessAllowed ? 'block' : 'none';\n",
              "\n",
              "        async function convertToInteractive(key) {\n",
              "          const element = document.querySelector('#df-a21264ee-5eac-4058-b78a-496c7b4de7f0');\n",
              "          const dataTable =\n",
              "            await google.colab.kernel.invokeFunction('convertToInteractive',\n",
              "                                                     [key], {});\n",
              "          if (!dataTable) return;\n",
              "\n",
              "          const docLinkHtml = 'Like what you see? Visit the ' +\n",
              "            '<a target=\"_blank\" href=https://colab.research.google.com/notebooks/data_table.ipynb>data table notebook</a>'\n",
              "            + ' to learn more about interactive tables.';\n",
              "          element.innerHTML = '';\n",
              "          dataTable['output_type'] = 'display_data';\n",
              "          await google.colab.output.renderOutput(dataTable, element);\n",
              "          const docLink = document.createElement('div');\n",
              "          docLink.innerHTML = docLinkHtml;\n",
              "          element.appendChild(docLink);\n",
              "        }\n",
              "      </script>\n",
              "    </div>\n",
              "  </div>\n",
              "  "
            ]
          },
          "metadata": {},
          "execution_count": 100
        }
      ]
    },
    {
      "cell_type": "code",
      "source": [
        "data_low = data_B2[data_B2['Salary']==0]\n",
        "data_high = data_B2[data_B2['Salary']==1]"
      ],
      "metadata": {
        "id": "FZEKpSC8Dy7v"
      },
      "execution_count": 104,
      "outputs": []
    },
    {
      "cell_type": "code",
      "source": [
        "data_low.head(5)"
      ],
      "metadata": {
        "colab": {
          "base_uri": "https://localhost:8080/",
          "height": 206
        },
        "id": "z8pZnm_tEigO",
        "outputId": "83b67196-289c-471e-c462-b10ab1b3ce29"
      },
      "execution_count": 105,
      "outputs": [
        {
          "output_type": "execute_result",
          "data": {
            "text/plain": [
              "                                     Description_lem  Salary\n",
              "0   opportunity asset management coordinator work...     0.0\n",
              "1   market executive lift equipment market execut...     0.0\n",
              "2   finance manager dynamics east london k financ...     0.0\n",
              "3   plc lead software engineer responsible delive...     0.0\n",
              "4   large market lead diverse business look exper...     0.0"
            ],
            "text/html": [
              "\n",
              "  <div id=\"df-42e70710-d4fa-4388-b8d8-e860e2e46cec\">\n",
              "    <div class=\"colab-df-container\">\n",
              "      <div>\n",
              "<style scoped>\n",
              "    .dataframe tbody tr th:only-of-type {\n",
              "        vertical-align: middle;\n",
              "    }\n",
              "\n",
              "    .dataframe tbody tr th {\n",
              "        vertical-align: top;\n",
              "    }\n",
              "\n",
              "    .dataframe thead th {\n",
              "        text-align: right;\n",
              "    }\n",
              "</style>\n",
              "<table border=\"1\" class=\"dataframe\">\n",
              "  <thead>\n",
              "    <tr style=\"text-align: right;\">\n",
              "      <th></th>\n",
              "      <th>Description_lem</th>\n",
              "      <th>Salary</th>\n",
              "    </tr>\n",
              "  </thead>\n",
              "  <tbody>\n",
              "    <tr>\n",
              "      <th>0</th>\n",
              "      <td>opportunity asset management coordinator work...</td>\n",
              "      <td>0.0</td>\n",
              "    </tr>\n",
              "    <tr>\n",
              "      <th>1</th>\n",
              "      <td>market executive lift equipment market execut...</td>\n",
              "      <td>0.0</td>\n",
              "    </tr>\n",
              "    <tr>\n",
              "      <th>2</th>\n",
              "      <td>finance manager dynamics east london k financ...</td>\n",
              "      <td>0.0</td>\n",
              "    </tr>\n",
              "    <tr>\n",
              "      <th>3</th>\n",
              "      <td>plc lead software engineer responsible delive...</td>\n",
              "      <td>0.0</td>\n",
              "    </tr>\n",
              "    <tr>\n",
              "      <th>4</th>\n",
              "      <td>large market lead diverse business look exper...</td>\n",
              "      <td>0.0</td>\n",
              "    </tr>\n",
              "  </tbody>\n",
              "</table>\n",
              "</div>\n",
              "      <button class=\"colab-df-convert\" onclick=\"convertToInteractive('df-42e70710-d4fa-4388-b8d8-e860e2e46cec')\"\n",
              "              title=\"Convert this dataframe to an interactive table.\"\n",
              "              style=\"display:none;\">\n",
              "        \n",
              "  <svg xmlns=\"http://www.w3.org/2000/svg\" height=\"24px\"viewBox=\"0 0 24 24\"\n",
              "       width=\"24px\">\n",
              "    <path d=\"M0 0h24v24H0V0z\" fill=\"none\"/>\n",
              "    <path d=\"M18.56 5.44l.94 2.06.94-2.06 2.06-.94-2.06-.94-.94-2.06-.94 2.06-2.06.94zm-11 1L8.5 8.5l.94-2.06 2.06-.94-2.06-.94L8.5 2.5l-.94 2.06-2.06.94zm10 10l.94 2.06.94-2.06 2.06-.94-2.06-.94-.94-2.06-.94 2.06-2.06.94z\"/><path d=\"M17.41 7.96l-1.37-1.37c-.4-.4-.92-.59-1.43-.59-.52 0-1.04.2-1.43.59L10.3 9.45l-7.72 7.72c-.78.78-.78 2.05 0 2.83L4 21.41c.39.39.9.59 1.41.59.51 0 1.02-.2 1.41-.59l7.78-7.78 2.81-2.81c.8-.78.8-2.07 0-2.86zM5.41 20L4 18.59l7.72-7.72 1.47 1.35L5.41 20z\"/>\n",
              "  </svg>\n",
              "      </button>\n",
              "      \n",
              "  <style>\n",
              "    .colab-df-container {\n",
              "      display:flex;\n",
              "      flex-wrap:wrap;\n",
              "      gap: 12px;\n",
              "    }\n",
              "\n",
              "    .colab-df-convert {\n",
              "      background-color: #E8F0FE;\n",
              "      border: none;\n",
              "      border-radius: 50%;\n",
              "      cursor: pointer;\n",
              "      display: none;\n",
              "      fill: #1967D2;\n",
              "      height: 32px;\n",
              "      padding: 0 0 0 0;\n",
              "      width: 32px;\n",
              "    }\n",
              "\n",
              "    .colab-df-convert:hover {\n",
              "      background-color: #E2EBFA;\n",
              "      box-shadow: 0px 1px 2px rgba(60, 64, 67, 0.3), 0px 1px 3px 1px rgba(60, 64, 67, 0.15);\n",
              "      fill: #174EA6;\n",
              "    }\n",
              "\n",
              "    [theme=dark] .colab-df-convert {\n",
              "      background-color: #3B4455;\n",
              "      fill: #D2E3FC;\n",
              "    }\n",
              "\n",
              "    [theme=dark] .colab-df-convert:hover {\n",
              "      background-color: #434B5C;\n",
              "      box-shadow: 0px 1px 3px 1px rgba(0, 0, 0, 0.15);\n",
              "      filter: drop-shadow(0px 1px 2px rgba(0, 0, 0, 0.3));\n",
              "      fill: #FFFFFF;\n",
              "    }\n",
              "  </style>\n",
              "\n",
              "      <script>\n",
              "        const buttonEl =\n",
              "          document.querySelector('#df-42e70710-d4fa-4388-b8d8-e860e2e46cec button.colab-df-convert');\n",
              "        buttonEl.style.display =\n",
              "          google.colab.kernel.accessAllowed ? 'block' : 'none';\n",
              "\n",
              "        async function convertToInteractive(key) {\n",
              "          const element = document.querySelector('#df-42e70710-d4fa-4388-b8d8-e860e2e46cec');\n",
              "          const dataTable =\n",
              "            await google.colab.kernel.invokeFunction('convertToInteractive',\n",
              "                                                     [key], {});\n",
              "          if (!dataTable) return;\n",
              "\n",
              "          const docLinkHtml = 'Like what you see? Visit the ' +\n",
              "            '<a target=\"_blank\" href=https://colab.research.google.com/notebooks/data_table.ipynb>data table notebook</a>'\n",
              "            + ' to learn more about interactive tables.';\n",
              "          element.innerHTML = '';\n",
              "          dataTable['output_type'] = 'display_data';\n",
              "          await google.colab.output.renderOutput(dataTable, element);\n",
              "          const docLink = document.createElement('div');\n",
              "          docLink.innerHTML = docLinkHtml;\n",
              "          element.appendChild(docLink);\n",
              "        }\n",
              "      </script>\n",
              "    </div>\n",
              "  </div>\n",
              "  "
            ]
          },
          "metadata": {},
          "execution_count": 105
        }
      ]
    },
    {
      "cell_type": "code",
      "source": [
        "#most frequent words for low salary\n",
        "freqword_low = Counter(\" \".join(data_low['Description_lem']).split()).most_common(10)\n",
        "freq_matrix_low = pd.DataFrame(freqword_low, columns=['Word', 'Frequency'])\n",
        "print(freq_matrix_low)"
      ],
      "metadata": {
        "colab": {
          "base_uri": "https://localhost:8080/"
        },
        "id": "xEC-hte3F2Fg",
        "outputId": "44cb0f27-23ba-4b0b-e866-691f43efeb4a"
      },
      "execution_count": 106,
      "outputs": [
        {
          "output_type": "stream",
          "name": "stdout",
          "text": [
            "         Word  Frequency\n",
            "0        work       4033\n",
            "1  experience       3505\n",
            "2        role       2169\n",
            "3        team       2144\n",
            "4     service       1893\n",
            "5         job       1884\n",
            "6       sales       1829\n",
            "7    business       1692\n",
            "8      skills       1678\n",
            "9     company       1541\n"
          ]
        }
      ]
    },
    {
      "cell_type": "code",
      "source": [
        "#most frequent words for high salary\n",
        "freqword_high = Counter(\" \".join(data_high['Description_lem']).split()).most_common(10)\n",
        "freq_matrix_high = pd.DataFrame(freqword_high, columns=['Word', 'Frequency'])\n",
        "print(freq_matrix_high)"
      ],
      "metadata": {
        "colab": {
          "base_uri": "https://localhost:8080/"
        },
        "id": "qyW1r1BKGI4l",
        "outputId": "ab5e72d2-f3f1-4453-ee75-1abaa0638b8c"
      },
      "execution_count": 107,
      "outputs": [
        {
          "output_type": "stream",
          "name": "stdout",
          "text": [
            "         Word  Frequency\n",
            "0  experience       1618\n",
            "1        work       1353\n",
            "2    business       1011\n",
            "3        team        990\n",
            "4        role        869\n",
            "5     project        867\n",
            "6  management        720\n",
            "7      skills        662\n",
            "8     manager        645\n",
            "9      client        608\n"
          ]
        }
      ]
    },
    {
      "cell_type": "markdown",
      "source": [
        " B3. Train a “hybrid” model to predict high/low salary using both numeric and text data. \n",
        "Show the accuracy of the model and the confusion matrix. Which model – numeric only, \n",
        "text only and hybrid – provided the highest accuracy in predicting high/low salary? Did \n",
        "the result surprise you? Why or why not?"
      ],
      "metadata": {
        "id": "F10aQofiRBGp"
      }
    },
    {
      "cell_type": "code",
      "source": [
        "data_B.dtypes"
      ],
      "metadata": {
        "colab": {
          "base_uri": "https://localhost:8080/"
        },
        "id": "EKS-8KJLXHdT",
        "outputId": "d24d71dd-72b7-4589-f983-70ece1918f47"
      },
      "execution_count": 64,
      "outputs": [
        {
          "output_type": "execute_result",
          "data": {
            "text/plain": [
              "index                         int64\n",
              "Id                            int64\n",
              "Title                        object\n",
              "FullDescription              object\n",
              "LocationRaw                  object\n",
              "LocationNormalized           object\n",
              "ContractType                 object\n",
              "ContractTime                 object\n",
              "Company                      object\n",
              "Category                     object\n",
              "SalaryRaw                    object\n",
              "SalaryNormalized              int64\n",
              "SourceName                   object\n",
              "Location                     object\n",
              "Contract_Time                object\n",
              "Contract_Type                object\n",
              "Salary                      float64\n",
              "FullDescription_nostopwd     object\n",
              "Description_clean            object\n",
              "Description_tokenized        object\n",
              "Description_lem              object\n",
              "dtype: object"
            ]
          },
          "metadata": {},
          "execution_count": 64
        }
      ]
    },
    {
      "cell_type": "code",
      "source": [
        "data_numberic = pd.get_dummies(data_B[predictors], drop_first=True)\n",
        "data_text = tfidf.fit_transform(text_data).toarray()"
      ],
      "metadata": {
        "id": "BbQ2EDalmB8M"
      },
      "execution_count": 85,
      "outputs": []
    },
    {
      "cell_type": "code",
      "source": [
        "type(data_numberic)"
      ],
      "metadata": {
        "colab": {
          "base_uri": "https://localhost:8080/"
        },
        "id": "JwmqH-qe6qfu",
        "outputId": "3be94a53-a3b3-444f-d7fd-11eef46c4b32"
      },
      "execution_count": 68,
      "outputs": [
        {
          "output_type": "execute_result",
          "data": {
            "text/plain": [
              "pandas.core.frame.DataFrame"
            ]
          },
          "metadata": {},
          "execution_count": 68
        }
      ]
    },
    {
      "cell_type": "code",
      "source": [
        "type(data_text)"
      ],
      "metadata": {
        "colab": {
          "base_uri": "https://localhost:8080/"
        },
        "id": "BC57M4Qq6t2I",
        "outputId": "efcb229b-ac52-422f-c5b0-b39b96f9e591"
      },
      "execution_count": 69,
      "outputs": [
        {
          "output_type": "execute_result",
          "data": {
            "text/plain": [
              "numpy.ndarray"
            ]
          },
          "metadata": {},
          "execution_count": 69
        }
      ]
    },
    {
      "cell_type": "code",
      "source": [
        "data_text.shape"
      ],
      "metadata": {
        "colab": {
          "base_uri": "https://localhost:8080/"
        },
        "id": "extR9jAN6xtK",
        "outputId": "eb161aeb-4482-4b50-aa09-1dbe41d91f85"
      },
      "execution_count": 71,
      "outputs": [
        {
          "output_type": "execute_result",
          "data": {
            "text/plain": [
              "(2500, 300)"
            ]
          },
          "metadata": {},
          "execution_count": 71
        }
      ]
    },
    {
      "cell_type": "code",
      "source": [
        "df_text = pd.DataFrame(data_text)"
      ],
      "metadata": {
        "id": "fWhmc_mD7D3L"
      },
      "execution_count": 86,
      "outputs": []
    },
    {
      "cell_type": "code",
      "source": [
        "data_B3 = pd.concat([data_numberic,df_text],axis=1)"
      ],
      "metadata": {
        "id": "pN_MkJ7k6dQC"
      },
      "execution_count": 87,
      "outputs": []
    },
    {
      "cell_type": "code",
      "source": [
        "y_B3 = data_B[outcomes]"
      ],
      "metadata": {
        "id": "55tbGjxv7lOB"
      },
      "execution_count": 88,
      "outputs": []
    },
    {
      "cell_type": "code",
      "source": [
        "X_train1, X_test1, y_train1, y_test1 = train_test_split(data_B3, y_B3, test_size=0.4, random_state=1)"
      ],
      "metadata": {
        "id": "chyCu_Vf7ZyY"
      },
      "execution_count": 89,
      "outputs": []
    },
    {
      "cell_type": "code",
      "source": [
        "#BernoulliNB classifier\n",
        "classifier1.fit(X_train1, y_train1)\n",
        "#MultinomialNB classifier\n",
        "classifier2.fit(X_train1, y_train1)"
      ],
      "metadata": {
        "colab": {
          "base_uri": "https://localhost:8080/"
        },
        "id": "shUlOniL7sDc",
        "outputId": "c73a4bcb-3a7f-43b0-b663-3e943d7df2b9"
      },
      "execution_count": 90,
      "outputs": [
        {
          "output_type": "stream",
          "name": "stderr",
          "text": [
            "/usr/local/lib/python3.7/dist-packages/sklearn/utils/validation.py:1692: FutureWarning: Feature names only support names that are all strings. Got feature names with dtypes: ['int', 'str']. An error will be raised in 1.2.\n",
            "  FutureWarning,\n",
            "/usr/local/lib/python3.7/dist-packages/sklearn/utils/validation.py:1692: FutureWarning: Feature names only support names that are all strings. Got feature names with dtypes: ['int', 'str']. An error will be raised in 1.2.\n",
            "  FutureWarning,\n"
          ]
        },
        {
          "output_type": "execute_result",
          "data": {
            "text/plain": [
              "MultinomialNB()"
            ]
          },
          "metadata": {},
          "execution_count": 90
        }
      ]
    },
    {
      "cell_type": "code",
      "source": [
        "print('\\nHere is the confusion matrix of MultinomialNB classifier:')\n",
        "print('Train set:')\n",
        "classificationSummary(y_train1, classifier2.predict(X_train1))\n",
        "print('F1 Score:')\n",
        "f1_text_B1 = f1_score(y_train1, classifier2.predict(X_train1))\n",
        "print(f1_text_B1)\n",
        "print('')\n",
        "print('Validation set:')\n",
        "classificationSummary(y_test1, classifier2.predict(X_test1))\n",
        "print('F1 Score:')\n",
        "f1_text_B2 = f1_score(y_test1, classifier2.predict(X_test1))\n",
        "print(f1_text_B2)"
      ],
      "metadata": {
        "colab": {
          "base_uri": "https://localhost:8080/"
        },
        "id": "gdDLJwN38Dkq",
        "outputId": "0d8cd20a-2422-4dd3-8a44-35e52384c630"
      },
      "execution_count": 91,
      "outputs": [
        {
          "output_type": "stream",
          "name": "stdout",
          "text": [
            "\n",
            "Here is the confusion matrix of MultinomialNB classifier:\n",
            "Train set:\n",
            "Confusion Matrix (Accuracy 0.8160)\n",
            "\n",
            "       Prediction\n",
            "Actual    0    1\n",
            "     0 1049   40\n",
            "     1  236  175\n",
            "F1 Score:\n",
            "0.5591054313099042\n",
            "\n",
            "Validation set:\n",
            "Confusion Matrix (Accuracy 0.7610)\n",
            "\n",
            "       Prediction\n",
            "Actual   0   1\n",
            "     0 680  71\n",
            "     1 168  81\n",
            "F1 Score:\n",
            "0.40399002493765584\n"
          ]
        },
        {
          "output_type": "stream",
          "name": "stderr",
          "text": [
            "/usr/local/lib/python3.7/dist-packages/sklearn/utils/validation.py:1692: FutureWarning: Feature names only support names that are all strings. Got feature names with dtypes: ['int', 'str']. An error will be raised in 1.2.\n",
            "  FutureWarning,\n",
            "/usr/local/lib/python3.7/dist-packages/sklearn/utils/validation.py:1692: FutureWarning: Feature names only support names that are all strings. Got feature names with dtypes: ['int', 'str']. An error will be raised in 1.2.\n",
            "  FutureWarning,\n",
            "/usr/local/lib/python3.7/dist-packages/sklearn/utils/validation.py:1692: FutureWarning: Feature names only support names that are all strings. Got feature names with dtypes: ['int', 'str']. An error will be raised in 1.2.\n",
            "  FutureWarning,\n",
            "/usr/local/lib/python3.7/dist-packages/sklearn/utils/validation.py:1692: FutureWarning: Feature names only support names that are all strings. Got feature names with dtypes: ['int', 'str']. An error will be raised in 1.2.\n",
            "  FutureWarning,\n"
          ]
        }
      ]
    },
    {
      "cell_type": "code",
      "source": [
        "print('\\nHere is the confusion matrix of BernoulliNB classifier:')\n",
        "print('Train set:')\n",
        "classificationSummary(y_train, classifier1.predict(X_train1))\n",
        "print('F1 Score:')\n",
        "f1_text_B3 = f1_score(y_train, classifier1.predict(X_train1))\n",
        "print(f1_text_B3)\n",
        "print('')\n",
        "print('Validation set:')\n",
        "classificationSummary(y_test, classifier1.predict(X_test1))\n",
        "print('F1 Score:')\n",
        "f1_text_B4 = f1_score(y_test, classifier1.predict(X_test1))\n",
        "print(f1_text_B4)"
      ],
      "metadata": {
        "colab": {
          "base_uri": "https://localhost:8080/"
        },
        "id": "R-68uJr_8D9a",
        "outputId": "70d68ecf-37a5-4dc0-d273-247001ad28d6"
      },
      "execution_count": 92,
      "outputs": [
        {
          "output_type": "stream",
          "name": "stdout",
          "text": [
            "\n",
            "Here is the confusion matrix of BernoulliNB classifier:\n",
            "Train set:\n",
            "Confusion Matrix (Accuracy 0.7973)\n",
            "\n",
            "       Prediction\n",
            "Actual    0    1\n",
            "     0 1027   62\n",
            "     1  242  169\n",
            "F1 Score:\n",
            "0.5264797507788161\n",
            "\n",
            "Validation set:\n",
            "Confusion Matrix (Accuracy 0.7640)\n",
            "\n",
            "       Prediction\n",
            "Actual   0   1\n",
            "     0 670  81\n",
            "     1 155  94\n",
            "F1 Score:\n",
            "0.4433962264150943\n"
          ]
        },
        {
          "output_type": "stream",
          "name": "stderr",
          "text": [
            "/usr/local/lib/python3.7/dist-packages/sklearn/utils/validation.py:1692: FutureWarning: Feature names only support names that are all strings. Got feature names with dtypes: ['int', 'str']. An error will be raised in 1.2.\n",
            "  FutureWarning,\n",
            "/usr/local/lib/python3.7/dist-packages/sklearn/utils/validation.py:1692: FutureWarning: Feature names only support names that are all strings. Got feature names with dtypes: ['int', 'str']. An error will be raised in 1.2.\n",
            "  FutureWarning,\n",
            "/usr/local/lib/python3.7/dist-packages/sklearn/utils/validation.py:1692: FutureWarning: Feature names only support names that are all strings. Got feature names with dtypes: ['int', 'str']. An error will be raised in 1.2.\n",
            "  FutureWarning,\n",
            "/usr/local/lib/python3.7/dist-packages/sklearn/utils/validation.py:1692: FutureWarning: Feature names only support names that are all strings. Got feature names with dtypes: ['int', 'str']. An error will be raised in 1.2.\n",
            "  FutureWarning,\n"
          ]
        }
      ]
    },
    {
      "cell_type": "markdown",
      "source": [
        "The accuracy of hybrid model is little bit better than above two. It doesn't really surprise me for the hybrid model provides more information, so that the result should be better. I am confused about the fact the improvement is not very much, only like one percentage. I guess the reason could be the information that text have is quite similar to numberic variable, so there is little extra information that the hybrid model could offer."
      ],
      "metadata": {
        "id": "HvxqTEMx9TIw"
      }
    }
  ]
}